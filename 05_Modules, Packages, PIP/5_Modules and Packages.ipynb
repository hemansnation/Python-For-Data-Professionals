{
 "cells": [
  {
   "cell_type": "markdown",
   "id": "69d81e58",
   "metadata": {},
   "source": [
    "# OS"
   ]
  },
  {
   "cell_type": "code",
   "execution_count": 1,
   "id": "b7ff5795",
   "metadata": {},
   "outputs": [],
   "source": [
    "import os"
   ]
  },
  {
   "cell_type": "code",
   "execution_count": 3,
   "id": "c9ada02d",
   "metadata": {
    "scrolled": false
   },
   "outputs": [],
   "source": [
    "# help(os)"
   ]
  },
  {
   "cell_type": "code",
   "execution_count": 4,
   "id": "66cc382b",
   "metadata": {},
   "outputs": [],
   "source": [
    "# make directory\n",
    "\n",
    "os.mkdir('images')"
   ]
  },
  {
   "cell_type": "code",
   "execution_count": 5,
   "id": "8b465dfe",
   "metadata": {},
   "outputs": [
    {
     "data": {
      "text/plain": [
       "'C:\\\\Users\\\\himan\\\\Documents\\\\Himanshu Ramchandani Live\\\\Python-For-Data-Professionals\\\\05_Modules, Packages, PIP'"
      ]
     },
     "execution_count": 5,
     "metadata": {},
     "output_type": "execute_result"
    }
   ],
   "source": [
    "# get current working directory\n",
    "\n",
    "os.getcwd()"
   ]
  },
  {
   "cell_type": "code",
   "execution_count": 6,
   "id": "79ff96c3",
   "metadata": {},
   "outputs": [],
   "source": [
    "# remove directory\n",
    "\n",
    "os.rmdir('images')"
   ]
  },
  {
   "cell_type": "markdown",
   "id": "0ed24bf4",
   "metadata": {},
   "source": [
    "# sys"
   ]
  },
  {
   "cell_type": "code",
   "execution_count": 7,
   "id": "e5ad4f54",
   "metadata": {},
   "outputs": [
    {
     "name": "stdout",
     "output_type": "stream",
     "text": [
      "3\n"
     ]
    }
   ],
   "source": [
    "import sys\n",
    "\n",
    "a = 3000\n",
    "\n",
    "print(sys.getrefcount(a))"
   ]
  },
  {
   "cell_type": "code",
   "execution_count": 10,
   "id": "5b7aeb16",
   "metadata": {},
   "outputs": [
    {
     "name": "stdout",
     "output_type": "stream",
     "text": [
      "2547\n",
      "2546\n"
     ]
    }
   ],
   "source": [
    "a = 10\n",
    "b = a\n",
    "print(sys.getrefcount(a))\n",
    "del a\n",
    "print(sys.getrefcount(b))"
   ]
  },
  {
   "cell_type": "code",
   "execution_count": 11,
   "id": "7f7f8b99",
   "metadata": {},
   "outputs": [
    {
     "data": {
      "text/plain": [
       "9223372036854775807"
      ]
     },
     "execution_count": 11,
     "metadata": {},
     "output_type": "execute_result"
    }
   ],
   "source": [
    "sys.maxsize"
   ]
  },
  {
   "cell_type": "code",
   "execution_count": 13,
   "id": "d98874de",
   "metadata": {
    "scrolled": false
   },
   "outputs": [],
   "source": [
    "# help(sys.maxsize)"
   ]
  },
  {
   "cell_type": "code",
   "execution_count": 14,
   "id": "971e5935",
   "metadata": {},
   "outputs": [
    {
     "data": {
      "text/plain": [
       "['C:\\\\Users\\\\himan\\\\Documents\\\\Himanshu Ramchandani Live\\\\Python-For-Data-Professionals\\\\05_Modules, Packages, PIP',\n",
       " 'C:\\\\Users\\\\himan\\\\anaconda3\\\\python39.zip',\n",
       " 'C:\\\\Users\\\\himan\\\\anaconda3\\\\DLLs',\n",
       " 'C:\\\\Users\\\\himan\\\\anaconda3\\\\lib',\n",
       " 'C:\\\\Users\\\\himan\\\\anaconda3',\n",
       " '',\n",
       " 'C:\\\\Users\\\\himan\\\\anaconda3\\\\lib\\\\site-packages',\n",
       " 'C:\\\\Users\\\\himan\\\\anaconda3\\\\lib\\\\site-packages\\\\win32',\n",
       " 'C:\\\\Users\\\\himan\\\\anaconda3\\\\lib\\\\site-packages\\\\win32\\\\lib',\n",
       " 'C:\\\\Users\\\\himan\\\\anaconda3\\\\lib\\\\site-packages\\\\Pythonwin']"
      ]
     },
     "execution_count": 14,
     "metadata": {},
     "output_type": "execute_result"
    }
   ],
   "source": [
    "sys.path"
   ]
  },
  {
   "cell_type": "code",
   "execution_count": 15,
   "id": "4f61c73f",
   "metadata": {},
   "outputs": [
    {
     "data": {
      "text/plain": [
       "'3.9.12 (main, Apr  4 2022, 05:22:27) [MSC v.1916 64 bit (AMD64)]'"
      ]
     },
     "execution_count": 15,
     "metadata": {},
     "output_type": "execute_result"
    }
   ],
   "source": [
    "sys.version"
   ]
  },
  {
   "cell_type": "markdown",
   "id": "159a5351",
   "metadata": {},
   "source": [
    "# statistics"
   ]
  },
  {
   "cell_type": "code",
   "execution_count": 16,
   "id": "4b5b70f2",
   "metadata": {},
   "outputs": [],
   "source": [
    "from statistics import *"
   ]
  },
  {
   "cell_type": "code",
   "execution_count": 17,
   "id": "80b96f86",
   "metadata": {},
   "outputs": [
    {
     "name": "stdout",
     "output_type": "stream",
     "text": [
      "35.666666666666664\n"
     ]
    }
   ],
   "source": [
    "ages = [20,10,40,33,45,66]\n",
    "\n",
    "print(mean(ages))"
   ]
  },
  {
   "cell_type": "code",
   "execution_count": 18,
   "id": "b036724c",
   "metadata": {},
   "outputs": [
    {
     "name": "stdout",
     "output_type": "stream",
     "text": [
      "36.5\n"
     ]
    }
   ],
   "source": [
    "print(median(ages))"
   ]
  },
  {
   "cell_type": "code",
   "execution_count": 19,
   "id": "d431b2bf",
   "metadata": {},
   "outputs": [
    {
     "name": "stdout",
     "output_type": "stream",
     "text": [
      "20\n"
     ]
    }
   ],
   "source": [
    "print(mode(ages))"
   ]
  },
  {
   "cell_type": "code",
   "execution_count": 20,
   "id": "d15f0ae6",
   "metadata": {},
   "outputs": [
    {
     "name": "stdout",
     "output_type": "stream",
     "text": [
      "19.684172999307506\n"
     ]
    }
   ],
   "source": [
    "print(stdev(ages))"
   ]
  },
  {
   "cell_type": "markdown",
   "id": "7b3a5cdc",
   "metadata": {},
   "source": [
    "# math"
   ]
  },
  {
   "cell_type": "code",
   "execution_count": 21,
   "id": "5fc6cf2f",
   "metadata": {},
   "outputs": [],
   "source": [
    "import math"
   ]
  },
  {
   "cell_type": "code",
   "execution_count": 22,
   "id": "7e1ed80d",
   "metadata": {},
   "outputs": [
    {
     "name": "stdout",
     "output_type": "stream",
     "text": [
      "3.141592653589793\n"
     ]
    }
   ],
   "source": [
    "print(math.pi)"
   ]
  },
  {
   "cell_type": "code",
   "execution_count": 23,
   "id": "af02d2fa",
   "metadata": {},
   "outputs": [
    {
     "name": "stdout",
     "output_type": "stream",
     "text": [
      "1.4142135623730951\n"
     ]
    }
   ],
   "source": [
    "print(math.sqrt(2))"
   ]
  },
  {
   "cell_type": "code",
   "execution_count": 24,
   "id": "9456d930",
   "metadata": {},
   "outputs": [
    {
     "name": "stdout",
     "output_type": "stream",
     "text": [
      "8.0\n"
     ]
    }
   ],
   "source": [
    "print(math.pow(2,3))"
   ]
  },
  {
   "cell_type": "code",
   "execution_count": 25,
   "id": "c0f548af",
   "metadata": {},
   "outputs": [
    {
     "name": "stdout",
     "output_type": "stream",
     "text": [
      "3\n"
     ]
    }
   ],
   "source": [
    "print(math.floor(3.4))"
   ]
  },
  {
   "cell_type": "code",
   "execution_count": 26,
   "id": "ca20219e",
   "metadata": {},
   "outputs": [
    {
     "name": "stdout",
     "output_type": "stream",
     "text": [
      "4\n"
     ]
    }
   ],
   "source": [
    "print(math.ceil(3.5))"
   ]
  },
  {
   "cell_type": "code",
   "execution_count": 27,
   "id": "436a9486",
   "metadata": {},
   "outputs": [],
   "source": [
    "# from math import pi, sqrt, pow, floor, ceil"
   ]
  },
  {
   "cell_type": "markdown",
   "id": "dc1e17e4",
   "metadata": {},
   "source": [
    "# random"
   ]
  },
  {
   "cell_type": "code",
   "execution_count": 28,
   "id": "fe6cef78",
   "metadata": {},
   "outputs": [],
   "source": [
    "import random as r"
   ]
  },
  {
   "cell_type": "code",
   "execution_count": 30,
   "id": "27c3ad84",
   "metadata": {},
   "outputs": [
    {
     "name": "stdout",
     "output_type": "stream",
     "text": [
      "0.5506872242436001\n"
     ]
    }
   ],
   "source": [
    "print(r.random())  # 0 to 1"
   ]
  },
  {
   "cell_type": "code",
   "execution_count": 35,
   "id": "13732f60",
   "metadata": {},
   "outputs": [
    {
     "name": "stdout",
     "output_type": "stream",
     "text": [
      "13\n"
     ]
    }
   ],
   "source": [
    "print(r.randint(5,20))"
   ]
  },
  {
   "cell_type": "code",
   "execution_count": null,
   "id": "22c7f79f",
   "metadata": {},
   "outputs": [],
   "source": [
    "bit > numbers > characters > instructions > function > class > module > package > library > framework"
   ]
  }
 ],
 "metadata": {
  "kernelspec": {
   "display_name": "Python 3 (ipykernel)",
   "language": "python",
   "name": "python3"
  },
  "language_info": {
   "codemirror_mode": {
    "name": "ipython",
    "version": 3
   },
   "file_extension": ".py",
   "mimetype": "text/x-python",
   "name": "python",
   "nbconvert_exporter": "python",
   "pygments_lexer": "ipython3",
   "version": "3.9.12"
  }
 },
 "nbformat": 4,
 "nbformat_minor": 5
}
