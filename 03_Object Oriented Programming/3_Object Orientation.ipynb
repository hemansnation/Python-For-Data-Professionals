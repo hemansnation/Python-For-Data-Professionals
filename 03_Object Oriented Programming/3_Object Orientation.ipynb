{
 "cells": [
  {
   "cell_type": "markdown",
   "id": "af19e250",
   "metadata": {},
   "source": [
    "# Object Orientation\n",
    "\n",
    "7 properties:\n",
    "\n",
    "1. Class \n",
    "        - updated version of structure\n",
    "        - collection of variables and methods\n",
    "        - class is a bluprint\n",
    "2. Object\n",
    "        - run time or real time entity.\n",
    "        - hash code/ id \n",
    "3. Abstraction and encapsulation\n",
    "        - Abstraction -> showing only essential features without showing any background details\n",
    "        - encapsulation -> wrapping up of data in a single unit.\n",
    "4. Inheritance\n",
    "        - Acquiring properties of one class into another.\n",
    "5. Polymorphism\n",
    "        - same name multiple functionalities\n",
    "6. Dynamic memory allocation - run time memory allocation\n",
    "7. Message Passing - communication between objects"
   ]
  },
  {
   "cell_type": "code",
   "execution_count": null,
   "id": "f81a175d",
   "metadata": {},
   "outputs": [],
   "source": [
    "             compile                run\n",
    "source code   ----->   byte code    ----->  output\n",
    "  .c                    .bak                 .exe\n",
    "  .cpp                  .obj\n",
    "  .java                 .javac\n",
    "  .py                   .pyc"
   ]
  },
  {
   "cell_type": "code",
   "execution_count": null,
   "id": "f185207e",
   "metadata": {},
   "outputs": [],
   "source": [
    "# c language\n",
    "# 1 byte = 8 bits\n",
    "\n",
    "int a = 10;  # 2 bytes - 16 bits\n",
    "\n",
    "\n",
    "struct student{\n",
    "    int rollno;\n",
    "    char name[10];\n",
    "    float per;\n",
    "}\n",
    "\n",
    "struct student s;  # 16bytes\n",
    "           int a;"
   ]
  },
  {
   "cell_type": "code",
   "execution_count": null,
   "id": "e1a7a15e",
   "metadata": {},
   "outputs": [],
   "source": [
    "windows 7\n",
    "   |\n",
    "windows 10"
   ]
  },
  {
   "cell_type": "code",
   "execution_count": null,
   "id": "8976177a",
   "metadata": {},
   "outputs": [],
   "source": [
    "add()\n",
    "add(a,b)\n",
    "add(x,y,z)\n",
    "add()"
   ]
  },
  {
   "cell_type": "code",
   "execution_count": 13,
   "id": "ee8956d8",
   "metadata": {},
   "outputs": [],
   "source": [
    "class Cricket:\n",
    "    \n",
    "    def batting(self):\n",
    "        print(\"This is batting from Cricket\")\n"
   ]
  },
  {
   "cell_type": "code",
   "execution_count": 14,
   "id": "50540fc0",
   "metadata": {},
   "outputs": [],
   "source": [
    "c = Cricket()"
   ]
  },
  {
   "cell_type": "code",
   "execution_count": 15,
   "id": "c1c220fa",
   "metadata": {},
   "outputs": [
    {
     "name": "stdout",
     "output_type": "stream",
     "text": [
      "This is batting from Cricket\n"
     ]
    }
   ],
   "source": [
    "c.batting()"
   ]
  },
  {
   "cell_type": "code",
   "execution_count": 12,
   "id": "73cf7fad",
   "metadata": {},
   "outputs": [],
   "source": [
    "# Cricket().batting()"
   ]
  },
  {
   "cell_type": "code",
   "execution_count": 16,
   "id": "d18f245b",
   "metadata": {},
   "outputs": [
    {
     "name": "stdout",
     "output_type": "stream",
     "text": [
      "<__main__.Cricket object at 0x000001B5B2F15550>\n"
     ]
    }
   ],
   "source": [
    "print(c)"
   ]
  },
  {
   "cell_type": "code",
   "execution_count": 17,
   "id": "9b8472a1",
   "metadata": {},
   "outputs": [
    {
     "name": "stdout",
     "output_type": "stream",
     "text": [
      "1879902868816\n"
     ]
    }
   ],
   "source": [
    "print(id(c))"
   ]
  },
  {
   "cell_type": "code",
   "execution_count": 18,
   "id": "16118e84",
   "metadata": {},
   "outputs": [
    {
     "name": "stdout",
     "output_type": "stream",
     "text": [
      "<__main__.Cricket object at 0x000001B5B2CBD610>\n",
      "This is batting from Cricket\n",
      "<__main__.Cricket object at 0x000001B5B2CBD610>\n"
     ]
    }
   ],
   "source": [
    "class Cricket:\n",
    "    \n",
    "    def batting(self):\n",
    "        print(self)\n",
    "        print(\"This is batting from Cricket\")\n",
    "\n",
    "c = Cricket()\n",
    "c.batting()\n",
    "print(c)"
   ]
  },
  {
   "cell_type": "code",
   "execution_count": 19,
   "id": "9f90142a",
   "metadata": {},
   "outputs": [
    {
     "name": "stdout",
     "output_type": "stream",
     "text": [
      "<__main__.Cricket object at 0x000001B5B2CBD220>\n"
     ]
    }
   ],
   "source": [
    "print(Cricket())"
   ]
  },
  {
   "cell_type": "code",
   "execution_count": null,
   "id": "a85d419a",
   "metadata": {},
   "outputs": [],
   "source": [
    "TV blueprint        - class\n",
    "- wifi\n",
    "- bluetooth\n",
    "- HDMI\n",
    "- USB\n",
    "\n",
    "actual TV           - object\n",
    "- product ID\n",
    "\n",
    "remote              - reference/naming"
   ]
  },
  {
   "cell_type": "code",
   "execution_count": 24,
   "id": "c1824f72",
   "metadata": {},
   "outputs": [],
   "source": [
    "class Football:\n",
    "    \n",
    "    def goal(abc, x):  # self = f, x = 100\n",
    "        abc.a = x      # self.a  - class variables , x - local variables\n",
    "        #  f.a = 100\n",
    "    \n",
    "    def display(abc):\n",
    "        print(abc.a)\n",
    "        #        f.a\n",
    "    \n",
    "f = Football()"
   ]
  },
  {
   "cell_type": "code",
   "execution_count": 25,
   "id": "49a3d92c",
   "metadata": {},
   "outputs": [],
   "source": [
    "f.goal(100)"
   ]
  },
  {
   "cell_type": "code",
   "execution_count": 26,
   "id": "1af4f8ad",
   "metadata": {},
   "outputs": [
    {
     "name": "stdout",
     "output_type": "stream",
     "text": [
      "100\n"
     ]
    }
   ],
   "source": [
    "f.display()"
   ]
  },
  {
   "cell_type": "markdown",
   "id": "b7e8403a",
   "metadata": {},
   "source": [
    "## constructor\n",
    "\n",
    "special member method of a class\n",
    "\n",
    "dunders/magic methods/sepcial methods"
   ]
  },
  {
   "cell_type": "code",
   "execution_count": 27,
   "id": "04505183",
   "metadata": {},
   "outputs": [],
   "source": [
    "class Cat:\n",
    "    \n",
    "    def __init__(self):\n",
    "        print(\"Contructor from Cat class\")\n",
    "    \n"
   ]
  },
  {
   "cell_type": "code",
   "execution_count": 28,
   "id": "c3a8b23a",
   "metadata": {},
   "outputs": [
    {
     "name": "stdout",
     "output_type": "stream",
     "text": [
      "Contructor from Cat class\n"
     ]
    }
   ],
   "source": [
    "c = Cat()"
   ]
  },
  {
   "cell_type": "markdown",
   "id": "7a19e5e3",
   "metadata": {},
   "source": [
    "**WAP to create a class area that can calculate area of square, rectangle, circle etc.**"
   ]
  },
  {
   "cell_type": "code",
   "execution_count": 29,
   "id": "ee4471fa",
   "metadata": {},
   "outputs": [
    {
     "name": "stdout",
     "output_type": "stream",
     "text": [
      "Area of Square= 16\n"
     ]
    }
   ],
   "source": [
    "class Area:\n",
    "    \n",
    "    def __init(self):\n",
    "        self.p = 3.14\n",
    "    \n",
    "    def square(self, a):\n",
    "        print(\"Area of Square=\", a * a)\n",
    "    \n",
    "    def rectangle(self, l, b):\n",
    "        print(\"Area of Rectangle=\", l * b)\n",
    "    \n",
    "    def circle(self, r):\n",
    "        p = 2\n",
    "        print(\"Area of Circle=\", p * r * r)\n",
    "    \n",
    "\n",
    "a1 = Area()\n",
    "a1.square(4)"
   ]
  },
  {
   "cell_type": "code",
   "execution_count": 30,
   "id": "4bdc5532",
   "metadata": {},
   "outputs": [
    {
     "name": "stdout",
     "output_type": "stream",
     "text": [
      "Area of Circle= 28.259999999999998\n"
     ]
    }
   ],
   "source": [
    "a1.circle(3)"
   ]
  },
  {
   "cell_type": "markdown",
   "id": "330b1b4c",
   "metadata": {},
   "source": [
    "## Inheritance\n",
    "\n",
    "#### single level"
   ]
  },
  {
   "cell_type": "code",
   "execution_count": null,
   "id": "29f987d2",
   "metadata": {},
   "outputs": [],
   "source": [
    "A\n",
    "|\n",
    "B"
   ]
  },
  {
   "cell_type": "code",
   "execution_count": 31,
   "id": "25077431",
   "metadata": {},
   "outputs": [],
   "source": [
    "class Windows7:\n",
    "    \n",
    "    def start(self):\n",
    "        print(\"start from windows7\")\n",
    "    \n",
    "\n",
    "class Windows10(Windows7):\n",
    "    \n",
    "    def control(self):\n",
    "        print(\"control from Windows10\")\n",
    "    \n",
    "\n",
    "w1 = Windows7()\n",
    "w2 = Windows10()"
   ]
  },
  {
   "cell_type": "code",
   "execution_count": 32,
   "id": "a008dd92",
   "metadata": {},
   "outputs": [
    {
     "name": "stdout",
     "output_type": "stream",
     "text": [
      "start from windows7\n"
     ]
    }
   ],
   "source": [
    "w1.start()"
   ]
  },
  {
   "cell_type": "code",
   "execution_count": 33,
   "id": "6ac320d9",
   "metadata": {},
   "outputs": [
    {
     "name": "stdout",
     "output_type": "stream",
     "text": [
      "control from Windows10\n"
     ]
    }
   ],
   "source": [
    "w2.control()"
   ]
  },
  {
   "cell_type": "code",
   "execution_count": 34,
   "id": "52ff87a2",
   "metadata": {},
   "outputs": [
    {
     "name": "stdout",
     "output_type": "stream",
     "text": [
      "start from windows7\n"
     ]
    }
   ],
   "source": [
    "w2.start()"
   ]
  },
  {
   "cell_type": "code",
   "execution_count": 35,
   "id": "71e7b7a2",
   "metadata": {},
   "outputs": [
    {
     "ename": "AttributeError",
     "evalue": "'Windows7' object has no attribute 'control'",
     "output_type": "error",
     "traceback": [
      "\u001b[1;31m---------------------------------------------------------------------------\u001b[0m",
      "\u001b[1;31mAttributeError\u001b[0m                            Traceback (most recent call last)",
      "Input \u001b[1;32mIn [35]\u001b[0m, in \u001b[0;36m<cell line: 1>\u001b[1;34m()\u001b[0m\n\u001b[1;32m----> 1\u001b[0m \u001b[43mw1\u001b[49m\u001b[38;5;241;43m.\u001b[39;49m\u001b[43mcontrol\u001b[49m()\n",
      "\u001b[1;31mAttributeError\u001b[0m: 'Windows7' object has no attribute 'control'"
     ]
    }
   ],
   "source": [
    "w1.control()"
   ]
  },
  {
   "cell_type": "markdown",
   "id": "e1533b0c",
   "metadata": {},
   "source": [
    "### multi level"
   ]
  },
  {
   "cell_type": "code",
   "execution_count": null,
   "id": "6e7940f5",
   "metadata": {},
   "outputs": [],
   "source": [
    "A\n",
    "|\n",
    "B\n",
    "|\n",
    "c"
   ]
  },
  {
   "cell_type": "code",
   "execution_count": 36,
   "id": "4759cb30",
   "metadata": {},
   "outputs": [],
   "source": [
    "class Windows6:\n",
    "    def start(self):\n",
    "        print(\"start from 6\")\n",
    "    \n",
    "class Windows7(Windows6):\n",
    "    def control(self):\n",
    "        print(\"control\")\n",
    "\n",
    "class Windows10(Windows7):\n",
    "    def obs(self):\n",
    "        print(\"OBS\")"
   ]
  },
  {
   "cell_type": "code",
   "execution_count": 37,
   "id": "5a1ae73f",
   "metadata": {},
   "outputs": [
    {
     "name": "stdout",
     "output_type": "stream",
     "text": [
      "OBS\n",
      "control\n",
      "start from 6\n"
     ]
    }
   ],
   "source": [
    "w3 = Windows10()\n",
    "w3.obs()\n",
    "w3.control()\n",
    "w3.start()"
   ]
  },
  {
   "cell_type": "markdown",
   "id": "973a462f",
   "metadata": {},
   "source": [
    "### multiple"
   ]
  },
  {
   "cell_type": "code",
   "execution_count": 43,
   "id": "9a962a23",
   "metadata": {},
   "outputs": [
    {
     "name": "stdout",
     "output_type": "stream",
     "text": [
      "start from 6\n",
      "[<class '__main__.Windows10'>, <class '__main__.Windows6'>, <class '__main__.Windows7'>, <class 'object'>]\n"
     ]
    }
   ],
   "source": [
    "class Windows6:\n",
    "    def start(self):\n",
    "        print(\"start from 6\")\n",
    "    \n",
    "class Windows7:\n",
    "    def control(self):\n",
    "        print(\"control\")\n",
    "    def start(self):\n",
    "        print(\"start from 7\")\n",
    "\n",
    "class Windows10(Windows6, Windows7):\n",
    "    def obs(self):\n",
    "        print(\"OBS\")\n",
    "\n",
    "w4 = Windows10()\n",
    "w4.start()\n",
    "print(Windows10.mro())"
   ]
  },
  {
   "cell_type": "markdown",
   "id": "a630a156",
   "metadata": {},
   "source": [
    "## MRO - Method Resolution Order"
   ]
  },
  {
   "cell_type": "code",
   "execution_count": 41,
   "id": "30a89719",
   "metadata": {},
   "outputs": [
    {
     "name": "stdout",
     "output_type": "stream",
     "text": [
      "Win 10 start\n"
     ]
    }
   ],
   "source": [
    "class Windows6:\n",
    "    def start(self):\n",
    "        print(\"start from 6\")\n",
    "    \n",
    "class Windows7:\n",
    "    def control(self):\n",
    "        print(\"control\")\n",
    "    def start(self):\n",
    "        print(\"start from 7\")\n",
    "\n",
    "class Windows10(Windows7, Windows6):\n",
    "    def obs(self):\n",
    "        print(\"OBS\")\n",
    "    def start(self):\n",
    "        print(\"Win 10 start\")\n",
    "\n",
    "w4 = Windows10()\n",
    "w4.start()"
   ]
  },
  {
   "cell_type": "code",
   "execution_count": 42,
   "id": "a9ed7ab7",
   "metadata": {},
   "outputs": [
    {
     "name": "stdout",
     "output_type": "stream",
     "text": [
      "[<class '__main__.Windows10'>, <class '__main__.Windows7'>, <class '__main__.Windows6'>, <class 'object'>]\n"
     ]
    }
   ],
   "source": [
    "print(Windows10.mro())"
   ]
  },
  {
   "cell_type": "code",
   "execution_count": 44,
   "id": "116c00ff",
   "metadata": {
    "scrolled": false
   },
   "outputs": [
    {
     "name": "stdout",
     "output_type": "stream",
     "text": [
      "Help on class int in module builtins:\n",
      "\n",
      "class int(object)\n",
      " |  int([x]) -> integer\n",
      " |  int(x, base=10) -> integer\n",
      " |  \n",
      " |  Convert a number or string to an integer, or return 0 if no arguments\n",
      " |  are given.  If x is a number, return x.__int__().  For floating point\n",
      " |  numbers, this truncates towards zero.\n",
      " |  \n",
      " |  If x is not a number or if base is given, then x must be a string,\n",
      " |  bytes, or bytearray instance representing an integer literal in the\n",
      " |  given base.  The literal can be preceded by '+' or '-' and be surrounded\n",
      " |  by whitespace.  The base defaults to 10.  Valid bases are 0 and 2-36.\n",
      " |  Base 0 means to interpret the base from the string as an integer literal.\n",
      " |  >>> int('0b100', base=0)\n",
      " |  4\n",
      " |  \n",
      " |  Built-in subclasses:\n",
      " |      bool\n",
      " |  \n",
      " |  Methods defined here:\n",
      " |  \n",
      " |  __abs__(self, /)\n",
      " |      abs(self)\n",
      " |  \n",
      " |  __add__(self, value, /)\n",
      " |      Return self+value.\n",
      " |  \n",
      " |  __and__(self, value, /)\n",
      " |      Return self&value.\n",
      " |  \n",
      " |  __bool__(self, /)\n",
      " |      True if self else False\n",
      " |  \n",
      " |  __ceil__(...)\n",
      " |      Ceiling of an Integral returns itself.\n",
      " |  \n",
      " |  __divmod__(self, value, /)\n",
      " |      Return divmod(self, value).\n",
      " |  \n",
      " |  __eq__(self, value, /)\n",
      " |      Return self==value.\n",
      " |  \n",
      " |  __float__(self, /)\n",
      " |      float(self)\n",
      " |  \n",
      " |  __floor__(...)\n",
      " |      Flooring an Integral returns itself.\n",
      " |  \n",
      " |  __floordiv__(self, value, /)\n",
      " |      Return self//value.\n",
      " |  \n",
      " |  __format__(self, format_spec, /)\n",
      " |      Default object formatter.\n",
      " |  \n",
      " |  __ge__(self, value, /)\n",
      " |      Return self>=value.\n",
      " |  \n",
      " |  __getattribute__(self, name, /)\n",
      " |      Return getattr(self, name).\n",
      " |  \n",
      " |  __getnewargs__(self, /)\n",
      " |  \n",
      " |  __gt__(self, value, /)\n",
      " |      Return self>value.\n",
      " |  \n",
      " |  __hash__(self, /)\n",
      " |      Return hash(self).\n",
      " |  \n",
      " |  __index__(self, /)\n",
      " |      Return self converted to an integer, if self is suitable for use as an index into a list.\n",
      " |  \n",
      " |  __int__(self, /)\n",
      " |      int(self)\n",
      " |  \n",
      " |  __invert__(self, /)\n",
      " |      ~self\n",
      " |  \n",
      " |  __le__(self, value, /)\n",
      " |      Return self<=value.\n",
      " |  \n",
      " |  __lshift__(self, value, /)\n",
      " |      Return self<<value.\n",
      " |  \n",
      " |  __lt__(self, value, /)\n",
      " |      Return self<value.\n",
      " |  \n",
      " |  __mod__(self, value, /)\n",
      " |      Return self%value.\n",
      " |  \n",
      " |  __mul__(self, value, /)\n",
      " |      Return self*value.\n",
      " |  \n",
      " |  __ne__(self, value, /)\n",
      " |      Return self!=value.\n",
      " |  \n",
      " |  __neg__(self, /)\n",
      " |      -self\n",
      " |  \n",
      " |  __or__(self, value, /)\n",
      " |      Return self|value.\n",
      " |  \n",
      " |  __pos__(self, /)\n",
      " |      +self\n",
      " |  \n",
      " |  __pow__(self, value, mod=None, /)\n",
      " |      Return pow(self, value, mod).\n",
      " |  \n",
      " |  __radd__(self, value, /)\n",
      " |      Return value+self.\n",
      " |  \n",
      " |  __rand__(self, value, /)\n",
      " |      Return value&self.\n",
      " |  \n",
      " |  __rdivmod__(self, value, /)\n",
      " |      Return divmod(value, self).\n",
      " |  \n",
      " |  __repr__(self, /)\n",
      " |      Return repr(self).\n",
      " |  \n",
      " |  __rfloordiv__(self, value, /)\n",
      " |      Return value//self.\n",
      " |  \n",
      " |  __rlshift__(self, value, /)\n",
      " |      Return value<<self.\n",
      " |  \n",
      " |  __rmod__(self, value, /)\n",
      " |      Return value%self.\n",
      " |  \n",
      " |  __rmul__(self, value, /)\n",
      " |      Return value*self.\n",
      " |  \n",
      " |  __ror__(self, value, /)\n",
      " |      Return value|self.\n",
      " |  \n",
      " |  __round__(...)\n",
      " |      Rounding an Integral returns itself.\n",
      " |      Rounding with an ndigits argument also returns an integer.\n",
      " |  \n",
      " |  __rpow__(self, value, mod=None, /)\n",
      " |      Return pow(value, self, mod).\n",
      " |  \n",
      " |  __rrshift__(self, value, /)\n",
      " |      Return value>>self.\n",
      " |  \n",
      " |  __rshift__(self, value, /)\n",
      " |      Return self>>value.\n",
      " |  \n",
      " |  __rsub__(self, value, /)\n",
      " |      Return value-self.\n",
      " |  \n",
      " |  __rtruediv__(self, value, /)\n",
      " |      Return value/self.\n",
      " |  \n",
      " |  __rxor__(self, value, /)\n",
      " |      Return value^self.\n",
      " |  \n",
      " |  __sizeof__(self, /)\n",
      " |      Returns size in memory, in bytes.\n",
      " |  \n",
      " |  __sub__(self, value, /)\n",
      " |      Return self-value.\n",
      " |  \n",
      " |  __truediv__(self, value, /)\n",
      " |      Return self/value.\n",
      " |  \n",
      " |  __trunc__(...)\n",
      " |      Truncating an Integral returns itself.\n",
      " |  \n",
      " |  __xor__(self, value, /)\n",
      " |      Return self^value.\n",
      " |  \n",
      " |  as_integer_ratio(self, /)\n",
      " |      Return integer ratio.\n",
      " |      \n",
      " |      Return a pair of integers, whose ratio is exactly equal to the original int\n",
      " |      and with a positive denominator.\n",
      " |      \n",
      " |      >>> (10).as_integer_ratio()\n",
      " |      (10, 1)\n",
      " |      >>> (-10).as_integer_ratio()\n",
      " |      (-10, 1)\n",
      " |      >>> (0).as_integer_ratio()\n",
      " |      (0, 1)\n",
      " |  \n",
      " |  bit_length(self, /)\n",
      " |      Number of bits necessary to represent self in binary.\n",
      " |      \n",
      " |      >>> bin(37)\n",
      " |      '0b100101'\n",
      " |      >>> (37).bit_length()\n",
      " |      6\n",
      " |  \n",
      " |  conjugate(...)\n",
      " |      Returns self, the complex conjugate of any int.\n",
      " |  \n",
      " |  to_bytes(self, /, length, byteorder, *, signed=False)\n",
      " |      Return an array of bytes representing an integer.\n",
      " |      \n",
      " |      length\n",
      " |        Length of bytes object to use.  An OverflowError is raised if the\n",
      " |        integer is not representable with the given number of bytes.\n",
      " |      byteorder\n",
      " |        The byte order used to represent the integer.  If byteorder is 'big',\n",
      " |        the most significant byte is at the beginning of the byte array.  If\n",
      " |        byteorder is 'little', the most significant byte is at the end of the\n",
      " |        byte array.  To request the native byte order of the host system, use\n",
      " |        `sys.byteorder' as the byte order value.\n",
      " |      signed\n",
      " |        Determines whether two's complement is used to represent the integer.\n",
      " |        If signed is False and a negative integer is given, an OverflowError\n",
      " |        is raised.\n",
      " |  \n",
      " |  ----------------------------------------------------------------------\n",
      " |  Class methods defined here:\n",
      " |  \n",
      " |  from_bytes(bytes, byteorder, *, signed=False) from builtins.type\n",
      " |      Return the integer represented by the given array of bytes.\n",
      " |      \n",
      " |      bytes\n",
      " |        Holds the array of bytes to convert.  The argument must either\n",
      " |        support the buffer protocol or be an iterable object producing bytes.\n",
      " |        Bytes and bytearray are examples of built-in objects that support the\n",
      " |        buffer protocol.\n",
      " |      byteorder\n",
      " |        The byte order used to represent the integer.  If byteorder is 'big',\n",
      " |        the most significant byte is at the beginning of the byte array.  If\n",
      " |        byteorder is 'little', the most significant byte is at the end of the\n",
      " |        byte array.  To request the native byte order of the host system, use\n",
      " |        `sys.byteorder' as the byte order value.\n",
      " |      signed\n",
      " |        Indicates whether two's complement is used to represent the integer.\n",
      " |  \n",
      " |  ----------------------------------------------------------------------\n",
      " |  Static methods defined here:\n",
      " |  \n",
      " |  __new__(*args, **kwargs) from builtins.type\n",
      " |      Create and return a new object.  See help(type) for accurate signature.\n",
      " |  \n",
      " |  ----------------------------------------------------------------------\n",
      " |  Data descriptors defined here:\n",
      " |  \n",
      " |  denominator\n",
      " |      the denominator of a rational number in lowest terms\n",
      " |  \n",
      " |  imag\n",
      " |      the imaginary part of a complex number\n",
      " |  \n",
      " |  numerator\n",
      " |      the numerator of a rational number in lowest terms\n",
      " |  \n",
      " |  real\n",
      " |      the real part of a complex number\n",
      "\n"
     ]
    }
   ],
   "source": [
    "help(int)"
   ]
  },
  {
   "cell_type": "code",
   "execution_count": 45,
   "id": "a8a736d0",
   "metadata": {},
   "outputs": [
    {
     "name": "stdout",
     "output_type": "stream",
     "text": [
      "Help on class Windows10 in module __main__:\n",
      "\n",
      "class Windows10(Windows6, Windows7)\n",
      " |  Method resolution order:\n",
      " |      Windows10\n",
      " |      Windows6\n",
      " |      Windows7\n",
      " |      builtins.object\n",
      " |  \n",
      " |  Methods defined here:\n",
      " |  \n",
      " |  obs(self)\n",
      " |  \n",
      " |  ----------------------------------------------------------------------\n",
      " |  Methods inherited from Windows6:\n",
      " |  \n",
      " |  start(self)\n",
      " |  \n",
      " |  ----------------------------------------------------------------------\n",
      " |  Data descriptors inherited from Windows6:\n",
      " |  \n",
      " |  __dict__\n",
      " |      dictionary for instance variables (if defined)\n",
      " |  \n",
      " |  __weakref__\n",
      " |      list of weak references to the object (if defined)\n",
      " |  \n",
      " |  ----------------------------------------------------------------------\n",
      " |  Methods inherited from Windows7:\n",
      " |  \n",
      " |  control(self)\n",
      "\n"
     ]
    }
   ],
   "source": [
    "help(Windows10)"
   ]
  },
  {
   "cell_type": "code",
   "execution_count": null,
   "id": "5cc34c36",
   "metadata": {},
   "outputs": [],
   "source": [
    "bit > numbers > character > instructions > programs > modules > packages > library > framework"
   ]
  }
 ],
 "metadata": {
  "kernelspec": {
   "display_name": "Python 3 (ipykernel)",
   "language": "python",
   "name": "python3"
  },
  "language_info": {
   "codemirror_mode": {
    "name": "ipython",
    "version": 3
   },
   "file_extension": ".py",
   "mimetype": "text/x-python",
   "name": "python",
   "nbconvert_exporter": "python",
   "pygments_lexer": "ipython3",
   "version": "3.9.12"
  }
 },
 "nbformat": 4,
 "nbformat_minor": 5
}
