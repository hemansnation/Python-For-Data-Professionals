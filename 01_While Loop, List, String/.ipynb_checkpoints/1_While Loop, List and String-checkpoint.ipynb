{
 "cells": [
  {
   "cell_type": "markdown",
   "id": "c25d17b8",
   "metadata": {},
   "source": [
    "# While Loop"
   ]
  },
  {
   "cell_type": "code",
   "execution_count": 1,
   "id": "b6c1024b",
   "metadata": {},
   "outputs": [
    {
     "name": "stdout",
     "output_type": "stream",
     "text": [
      "Himanshu\n",
      "Himanshu\n",
      "Himanshu\n",
      "Himanshu\n",
      "Himanshu\n",
      "Himanshu\n",
      "Himanshu\n",
      "Himanshu\n",
      "Himanshu\n",
      "Himanshu\n"
     ]
    }
   ],
   "source": [
    "i = 1\n",
    "\n",
    "while i <= 10:\n",
    "    print(\"Himanshu\")\n",
    "    i += 1                 # i = i + 1"
   ]
  },
  {
   "cell_type": "code",
   "execution_count": null,
   "id": "550fbfd9",
   "metadata": {},
   "outputs": [],
   "source": [
    "1\n",
    "2\n",
    "3\n",
    "4\n",
    "5\n",
    "6\n",
    "7\n",
    "8\n",
    "9\n",
    "10"
   ]
  },
  {
   "cell_type": "code",
   "execution_count": 2,
   "id": "1c63f2db",
   "metadata": {},
   "outputs": [
    {
     "name": "stdout",
     "output_type": "stream",
     "text": [
      "1\n",
      "2\n",
      "3\n",
      "4\n",
      "5\n",
      "6\n",
      "7\n",
      "8\n",
      "9\n",
      "10\n"
     ]
    }
   ],
   "source": [
    "i = 1\n",
    "while i <= 10:\n",
    "    print(i)\n",
    "    i += 1"
   ]
  },
  {
   "cell_type": "code",
   "execution_count": 3,
   "id": "4f3831a2",
   "metadata": {},
   "outputs": [
    {
     "name": "stdout",
     "output_type": "stream",
     "text": [
      "Hello\n",
      "World\n"
     ]
    }
   ],
   "source": [
    "print(\"Hello\")\n",
    "print(\"World\")"
   ]
  },
  {
   "cell_type": "code",
   "execution_count": 5,
   "id": "17865b71",
   "metadata": {},
   "outputs": [
    {
     "name": "stdout",
     "output_type": "stream",
     "text": [
      "Hello World\n"
     ]
    }
   ],
   "source": [
    "print(\"Hello\",end=' ')\n",
    "print(\"World\")"
   ]
  },
  {
   "cell_type": "code",
   "execution_count": 6,
   "id": "fe279743",
   "metadata": {},
   "outputs": [
    {
     "name": "stdout",
     "output_type": "stream",
     "text": [
      "HelloWorld\n"
     ]
    }
   ],
   "source": [
    "print(\"Hello\",end='')\n",
    "print(\"World\")"
   ]
  },
  {
   "cell_type": "code",
   "execution_count": null,
   "id": "b9eff636",
   "metadata": {},
   "outputs": [],
   "source": [
    "1  2  3  4  5  6  7  8  9  10"
   ]
  },
  {
   "cell_type": "code",
   "execution_count": 7,
   "id": "60acee0e",
   "metadata": {},
   "outputs": [
    {
     "name": "stdout",
     "output_type": "stream",
     "text": [
      "1  2  3  4  5  6  7  8  9  10  "
     ]
    }
   ],
   "source": [
    "i = 1\n",
    "while i <= 10:\n",
    "    print(i, end='  ')\n",
    "    i += 1"
   ]
  },
  {
   "cell_type": "code",
   "execution_count": 8,
   "id": "806a3328",
   "metadata": {},
   "outputs": [
    {
     "name": "stdout",
     "output_type": "stream",
     "text": [
      "15\n",
      "10\n"
     ]
    }
   ],
   "source": [
    "a = 10\n",
    "\n",
    "print(a + 5)\n",
    "\n",
    "print(a)"
   ]
  },
  {
   "cell_type": "code",
   "execution_count": null,
   "id": "27b75e24",
   "metadata": {},
   "outputs": [],
   "source": [
    "1  4  9  16  25  36  49  64  81  100"
   ]
  },
  {
   "cell_type": "code",
   "execution_count": 9,
   "id": "9f31dd61",
   "metadata": {},
   "outputs": [
    {
     "name": "stdout",
     "output_type": "stream",
     "text": [
      "1  4  9  16  25  36  49  64  81  100  "
     ]
    }
   ],
   "source": [
    "i = 1\n",
    "while i <= 10:\n",
    "    print(i*i, end='  ')\n",
    "    i += 1"
   ]
  },
  {
   "cell_type": "code",
   "execution_count": null,
   "id": "8bf5a7ac",
   "metadata": {},
   "outputs": [],
   "source": [
    "1+2+3+4+5+6+7+8+9+10"
   ]
  },
  {
   "cell_type": "code",
   "execution_count": 10,
   "id": "a040d4e1",
   "metadata": {},
   "outputs": [
    {
     "name": "stdout",
     "output_type": "stream",
     "text": [
      "1+2+3+4+5+6+7+8+9+10+"
     ]
    }
   ],
   "source": [
    "i = 1\n",
    "while i <= 10:\n",
    "    print(i, end='+')\n",
    "    i += 1"
   ]
  },
  {
   "cell_type": "code",
   "execution_count": 11,
   "id": "c587618f",
   "metadata": {},
   "outputs": [
    {
     "name": "stdout",
     "output_type": "stream",
     "text": [
      "1+2+3+4+5+6+7+8+9+10\n"
     ]
    }
   ],
   "source": [
    "i = 1\n",
    "while i <= 10:\n",
    "    if i < 10:\n",
    "        print(i, end='+')\n",
    "    else:\n",
    "        print(i)\n",
    "    i += 1"
   ]
  },
  {
   "cell_type": "markdown",
   "id": "cfe53ece",
   "metadata": {},
   "source": [
    "**Write a program to get a number from user and print reverse of it**"
   ]
  },
  {
   "cell_type": "code",
   "execution_count": null,
   "id": "d2d65220",
   "metadata": {},
   "outputs": [],
   "source": [
    "153\n",
    "\n",
    "351"
   ]
  },
  {
   "cell_type": "code",
   "execution_count": null,
   "id": "83293e5a",
   "metadata": {},
   "outputs": [],
   "source": [
    "153 % 10  = 3\n",
    "153 // 10  = 15\n",
    "\n",
    "15 % 10  = 5\n",
    "15 // 10 = 1\n",
    "\n",
    "1 % 10  = 1\n",
    "1 // 10 = 0"
   ]
  },
  {
   "cell_type": "code",
   "execution_count": null,
   "id": "bdfe5c00",
   "metadata": {},
   "outputs": [],
   "source": [
    "a % b = c"
   ]
  },
  {
   "cell_type": "code",
   "execution_count": 12,
   "id": "7d5e02ce",
   "metadata": {},
   "outputs": [
    {
     "name": "stdout",
     "output_type": "stream",
     "text": [
      "Enter a number: 153\n",
      "351"
     ]
    }
   ],
   "source": [
    "n = int(input(\"Enter a number: \"))\n",
    "\n",
    "while n > 0:\n",
    "    r = n % 10\n",
    "    print(r, end='')\n",
    "    n = n // 10"
   ]
  },
  {
   "cell_type": "markdown",
   "id": "5a28a1a2",
   "metadata": {},
   "source": [
    "**WAP to enter a number from user and print sum of its individual digits**"
   ]
  },
  {
   "cell_type": "code",
   "execution_count": null,
   "id": "be894c25",
   "metadata": {},
   "outputs": [],
   "source": [
    "153\n",
    "\n",
    "0 + 3 + 5 + 1\n",
    "s + 3\n",
    "  s  +  5\n",
    "     s    +  1\n",
    "         s\n",
    "\n",
    "9"
   ]
  },
  {
   "cell_type": "code",
   "execution_count": 14,
   "id": "73dfa6ca",
   "metadata": {},
   "outputs": [
    {
     "name": "stdout",
     "output_type": "stream",
     "text": [
      "Enter a number: 153\n",
      "Sum = 9\n"
     ]
    }
   ],
   "source": [
    "n = int(input(\"Enter a number: \"))\n",
    "s = 0\n",
    "\n",
    "while n > 0:\n",
    "    r = n % 10\n",
    "    s = s + r    # s = 0, 3, 8, 9\n",
    "    n = n // 10\n",
    "\n",
    "print(\"Sum =\", s)"
   ]
  },
  {
   "cell_type": "markdown",
   "id": "7002eac0",
   "metadata": {},
   "source": [
    "# List"
   ]
  },
  {
   "cell_type": "code",
   "execution_count": 16,
   "id": "29178000",
   "metadata": {},
   "outputs": [
    {
     "name": "stdout",
     "output_type": "stream",
     "text": [
      "<class 'int'>\n"
     ]
    }
   ],
   "source": [
    "a = 10\n",
    "b = 20\n",
    "c = 30\n",
    "\n",
    "print(type(a))"
   ]
  },
  {
   "cell_type": "code",
   "execution_count": 15,
   "id": "254a12e2",
   "metadata": {},
   "outputs": [
    {
     "name": "stdout",
     "output_type": "stream",
     "text": [
      "['A', 'B', 10, 10.65]\n"
     ]
    }
   ],
   "source": [
    "l = [\"A\", \"B\", 10, 10.65]\n",
    "\n",
    "print(l)"
   ]
  },
  {
   "cell_type": "code",
   "execution_count": null,
   "id": "6a8be33d",
   "metadata": {},
   "outputs": [],
   "source": [
    "2011  2013  2015"
   ]
  },
  {
   "cell_type": "code",
   "execution_count": 17,
   "id": "ce3b5111",
   "metadata": {},
   "outputs": [
    {
     "name": "stdout",
     "output_type": "stream",
     "text": [
      "['A', 'B', 10, 10.65]\n"
     ]
    }
   ],
   "source": [
    "l = [\"A\", \"B\", 10, 10.65]\n",
    "#     0    1    2    3\n",
    "\n",
    "print(l)"
   ]
  },
  {
   "cell_type": "code",
   "execution_count": 18,
   "id": "26adca48",
   "metadata": {},
   "outputs": [
    {
     "data": {
      "text/plain": [
       "'A'"
      ]
     },
     "execution_count": 18,
     "metadata": {},
     "output_type": "execute_result"
    }
   ],
   "source": [
    "l[0]"
   ]
  },
  {
   "cell_type": "code",
   "execution_count": 19,
   "id": "c2dbbe28",
   "metadata": {},
   "outputs": [
    {
     "name": "stdout",
     "output_type": "stream",
     "text": [
      "<class 'list'>\n"
     ]
    }
   ],
   "source": [
    "print(type(l))"
   ]
  },
  {
   "cell_type": "code",
   "execution_count": 20,
   "id": "0a25ce0a",
   "metadata": {},
   "outputs": [
    {
     "name": "stdout",
     "output_type": "stream",
     "text": [
      "<class 'str'>\n"
     ]
    }
   ],
   "source": [
    "print(type(l[0]))"
   ]
  },
  {
   "cell_type": "code",
   "execution_count": 21,
   "id": "6d8ad068",
   "metadata": {},
   "outputs": [
    {
     "name": "stdout",
     "output_type": "stream",
     "text": [
      "10.65\n"
     ]
    }
   ],
   "source": [
    "print(l[3])"
   ]
  },
  {
   "cell_type": "code",
   "execution_count": 22,
   "id": "3f9ebf51",
   "metadata": {},
   "outputs": [
    {
     "name": "stdout",
     "output_type": "stream",
     "text": [
      "<class 'float'>\n"
     ]
    }
   ],
   "source": [
    "print(type(l[3]))"
   ]
  },
  {
   "cell_type": "code",
   "execution_count": 23,
   "id": "98f0cfbe",
   "metadata": {},
   "outputs": [
    {
     "name": "stdout",
     "output_type": "stream",
     "text": [
      "['A', 'B', 10, 10.65]\n"
     ]
    }
   ],
   "source": [
    "#    -4   -3   -2    -1\n",
    "l = [\"A\", \"B\", 10, 10.65]\n",
    "#     0    1    2    3\n",
    "\n",
    "print(l)"
   ]
  },
  {
   "cell_type": "code",
   "execution_count": 24,
   "id": "388f54b5",
   "metadata": {},
   "outputs": [
    {
     "name": "stdout",
     "output_type": "stream",
     "text": [
      "10.65\n"
     ]
    }
   ],
   "source": [
    "print(l[-1])"
   ]
  },
  {
   "cell_type": "code",
   "execution_count": 25,
   "id": "985edd86",
   "metadata": {},
   "outputs": [
    {
     "data": {
      "text/plain": [
       "'B'"
      ]
     },
     "execution_count": 25,
     "metadata": {},
     "output_type": "execute_result"
    }
   ],
   "source": [
    "l[-3]"
   ]
  },
  {
   "cell_type": "code",
   "execution_count": 26,
   "id": "c3dcc635",
   "metadata": {},
   "outputs": [
    {
     "data": {
      "text/plain": [
       "'B'"
      ]
     },
     "execution_count": 26,
     "metadata": {},
     "output_type": "execute_result"
    }
   ],
   "source": [
    "l[1]"
   ]
  },
  {
   "cell_type": "code",
   "execution_count": 27,
   "id": "fc84d716",
   "metadata": {},
   "outputs": [
    {
     "ename": "IndexError",
     "evalue": "list index out of range",
     "output_type": "error",
     "traceback": [
      "\u001b[1;31m---------------------------------------------------------------------------\u001b[0m",
      "\u001b[1;31mIndexError\u001b[0m                                Traceback (most recent call last)",
      "Input \u001b[1;32mIn [27]\u001b[0m, in \u001b[0;36m<cell line: 1>\u001b[1;34m()\u001b[0m\n\u001b[1;32m----> 1\u001b[0m \u001b[43ml\u001b[49m\u001b[43m[\u001b[49m\u001b[38;5;241;43m5\u001b[39;49m\u001b[43m]\u001b[49m\n",
      "\u001b[1;31mIndexError\u001b[0m: list index out of range"
     ]
    }
   ],
   "source": [
    "l[5]"
   ]
  },
  {
   "cell_type": "code",
   "execution_count": null,
   "id": "63021b9a",
   "metadata": {},
   "outputs": [],
   "source": [
    "a1 = 10\n",
    "a2 = 20"
   ]
  },
  {
   "cell_type": "code",
   "execution_count": 28,
   "id": "d80f6ec2",
   "metadata": {},
   "outputs": [
    {
     "name": "stdout",
     "output_type": "stream",
     "text": [
      "['A', 'B', 10, 10.65]\n"
     ]
    }
   ],
   "source": [
    "l = [\"A\", \"B\", 10, 10.65]\n",
    "#     0    1    2    3\n",
    "\n",
    "print(l)"
   ]
  },
  {
   "cell_type": "code",
   "execution_count": 29,
   "id": "a097194f",
   "metadata": {},
   "outputs": [],
   "source": [
    "l[0] = \"Indore\""
   ]
  },
  {
   "cell_type": "code",
   "execution_count": 30,
   "id": "1c3590f3",
   "metadata": {},
   "outputs": [
    {
     "name": "stdout",
     "output_type": "stream",
     "text": [
      "['Indore', 'B', 10, 10.65]\n"
     ]
    }
   ],
   "source": [
    "print(l)"
   ]
  },
  {
   "cell_type": "code",
   "execution_count": 31,
   "id": "baacf531",
   "metadata": {},
   "outputs": [
    {
     "ename": "IndexError",
     "evalue": "list assignment index out of range",
     "output_type": "error",
     "traceback": [
      "\u001b[1;31m---------------------------------------------------------------------------\u001b[0m",
      "\u001b[1;31mIndexError\u001b[0m                                Traceback (most recent call last)",
      "Input \u001b[1;32mIn [31]\u001b[0m, in \u001b[0;36m<cell line: 1>\u001b[1;34m()\u001b[0m\n\u001b[1;32m----> 1\u001b[0m l[\u001b[38;5;241m4\u001b[39m] \u001b[38;5;241m=\u001b[39m \u001b[38;5;124m\"\u001b[39m\u001b[38;5;124mIndia\u001b[39m\u001b[38;5;124m\"\u001b[39m\n",
      "\u001b[1;31mIndexError\u001b[0m: list assignment index out of range"
     ]
    }
   ],
   "source": [
    "l[4] = \"India\""
   ]
  },
  {
   "cell_type": "code",
   "execution_count": 33,
   "id": "64abb5e8",
   "metadata": {},
   "outputs": [
    {
     "name": "stdout",
     "output_type": "stream",
     "text": [
      "[12, 'Goa']\n"
     ]
    }
   ],
   "source": [
    "# mutable object\n",
    "\n",
    "l = [12,14]\n",
    "\n",
    "l[1] = \"Goa\"\n",
    "\n",
    "print(l)"
   ]
  },
  {
   "cell_type": "code",
   "execution_count": null,
   "id": "6b39df9f",
   "metadata": {},
   "outputs": [],
   "source": [
    "# int are immutable\n",
    "\n",
    "1 + 1 = 2\n",
    "1"
   ]
  },
  {
   "cell_type": "code",
   "execution_count": null,
   "id": "d1e7471e",
   "metadata": {},
   "outputs": [],
   "source": [
    "a = 10         \n",
    "                a --> 20\n",
    "a = 2"
   ]
  },
  {
   "cell_type": "markdown",
   "id": "5b412490",
   "metadata": {},
   "source": [
    "# List functions"
   ]
  },
  {
   "cell_type": "code",
   "execution_count": 34,
   "id": "2478b851",
   "metadata": {},
   "outputs": [
    {
     "name": "stdout",
     "output_type": "stream",
     "text": [
      "200\n"
     ]
    }
   ],
   "source": [
    "l = [11,12,100, 22,55]\n",
    "\n",
    "print(sum(l))"
   ]
  },
  {
   "cell_type": "code",
   "execution_count": 38,
   "id": "d2a1a1da",
   "metadata": {},
   "outputs": [
    {
     "data": {
      "text/plain": [
       "25"
      ]
     },
     "execution_count": 38,
     "metadata": {},
     "output_type": "execute_result"
    }
   ],
   "source": [
    "l[0] + l[1]"
   ]
  },
  {
   "cell_type": "code",
   "execution_count": 36,
   "id": "9c6bac76",
   "metadata": {},
   "outputs": [
    {
     "ename": "TypeError",
     "evalue": "can only concatenate str (not \"int\") to str",
     "output_type": "error",
     "traceback": [
      "\u001b[1;31m---------------------------------------------------------------------------\u001b[0m",
      "\u001b[1;31mTypeError\u001b[0m                                 Traceback (most recent call last)",
      "Input \u001b[1;32mIn [36]\u001b[0m, in \u001b[0;36m<cell line: 1>\u001b[1;34m()\u001b[0m\n\u001b[1;32m----> 1\u001b[0m \u001b[38;5;124;43m\"\u001b[39;49m\u001b[38;5;124;43mA\u001b[39;49m\u001b[38;5;124;43m\"\u001b[39;49m\u001b[43m \u001b[49m\u001b[38;5;241;43m+\u001b[39;49m\u001b[43m \u001b[49m\u001b[38;5;241;43m10\u001b[39;49m\n",
      "\u001b[1;31mTypeError\u001b[0m: can only concatenate str (not \"int\") to str"
     ]
    }
   ],
   "source": [
    "\"A\" + 10"
   ]
  },
  {
   "cell_type": "code",
   "execution_count": 35,
   "id": "7d85702c",
   "metadata": {},
   "outputs": [
    {
     "ename": "TypeError",
     "evalue": "unsupported operand type(s) for +: 'int' and 'str'",
     "output_type": "error",
     "traceback": [
      "\u001b[1;31m---------------------------------------------------------------------------\u001b[0m",
      "\u001b[1;31mTypeError\u001b[0m                                 Traceback (most recent call last)",
      "Input \u001b[1;32mIn [35]\u001b[0m, in \u001b[0;36m<cell line: 3>\u001b[1;34m()\u001b[0m\n\u001b[0;32m      1\u001b[0m l \u001b[38;5;241m=\u001b[39m [\u001b[38;5;241m12\u001b[39m, \u001b[38;5;241m13\u001b[39m, \u001b[38;5;241m14\u001b[39m, \u001b[38;5;124m\"\u001b[39m\u001b[38;5;124mA\u001b[39m\u001b[38;5;124m\"\u001b[39m]\n\u001b[1;32m----> 3\u001b[0m \u001b[38;5;28mprint\u001b[39m(\u001b[38;5;28;43msum\u001b[39;49m\u001b[43m(\u001b[49m\u001b[43ml\u001b[49m\u001b[43m)\u001b[49m)\n",
      "\u001b[1;31mTypeError\u001b[0m: unsupported operand type(s) for +: 'int' and 'str'"
     ]
    }
   ],
   "source": [
    "l = [12, 13, 14, \"A\"]\n",
    "\n",
    "print(sum(l))"
   ]
  },
  {
   "cell_type": "code",
   "execution_count": 37,
   "id": "c85da101",
   "metadata": {},
   "outputs": [
    {
     "data": {
      "text/plain": [
       "'AB'"
      ]
     },
     "execution_count": 37,
     "metadata": {},
     "output_type": "execute_result"
    }
   ],
   "source": [
    "\"A\" + \"B\""
   ]
  },
  {
   "cell_type": "code",
   "execution_count": 39,
   "id": "1ac1afd0",
   "metadata": {},
   "outputs": [
    {
     "ename": "TypeError",
     "evalue": "unsupported operand type(s) for +: 'int' and 'str'",
     "output_type": "error",
     "traceback": [
      "\u001b[1;31m---------------------------------------------------------------------------\u001b[0m",
      "\u001b[1;31mTypeError\u001b[0m                                 Traceback (most recent call last)",
      "Input \u001b[1;32mIn [39]\u001b[0m, in \u001b[0;36m<cell line: 3>\u001b[1;34m()\u001b[0m\n\u001b[0;32m      1\u001b[0m l \u001b[38;5;241m=\u001b[39m [\u001b[38;5;124m\"\u001b[39m\u001b[38;5;124mA\u001b[39m\u001b[38;5;124m\"\u001b[39m, \u001b[38;5;124m\"\u001b[39m\u001b[38;5;124mB\u001b[39m\u001b[38;5;124m\"\u001b[39m, \u001b[38;5;124m\"\u001b[39m\u001b[38;5;124mC\u001b[39m\u001b[38;5;124m\"\u001b[39m]\n\u001b[1;32m----> 3\u001b[0m \u001b[38;5;28mprint\u001b[39m(\u001b[38;5;28;43msum\u001b[39;49m\u001b[43m(\u001b[49m\u001b[43ml\u001b[49m\u001b[43m)\u001b[49m)\n",
      "\u001b[1;31mTypeError\u001b[0m: unsupported operand type(s) for +: 'int' and 'str'"
     ]
    }
   ],
   "source": [
    "l = [\"A\", \"B\", \"C\"]\n",
    "\n",
    "print(sum(l))"
   ]
  },
  {
   "cell_type": "code",
   "execution_count": 40,
   "id": "80409c3f",
   "metadata": {},
   "outputs": [
    {
     "data": {
      "text/plain": [
       "'ABC'"
      ]
     },
     "execution_count": 40,
     "metadata": {},
     "output_type": "execute_result"
    }
   ],
   "source": [
    "'A' + 'B' + 'C'"
   ]
  },
  {
   "cell_type": "code",
   "execution_count": 41,
   "id": "4139fe10",
   "metadata": {},
   "outputs": [
    {
     "name": "stdout",
     "output_type": "stream",
     "text": [
      "556\n"
     ]
    }
   ],
   "source": [
    "l = [12,11,23,556,10]\n",
    "\n",
    "print(max(l))"
   ]
  },
  {
   "cell_type": "code",
   "execution_count": 42,
   "id": "c5b47bb7",
   "metadata": {},
   "outputs": [
    {
     "name": "stdout",
     "output_type": "stream",
     "text": [
      "10\n"
     ]
    }
   ],
   "source": [
    "print(min(l))"
   ]
  },
  {
   "cell_type": "code",
   "execution_count": 44,
   "id": "55027e1b",
   "metadata": {},
   "outputs": [
    {
     "name": "stdout",
     "output_type": "stream",
     "text": [
      "5\n"
     ]
    }
   ],
   "source": [
    "print(len(l))"
   ]
  },
  {
   "cell_type": "markdown",
   "id": "f92278a4",
   "metadata": {},
   "source": [
    "# List slicing"
   ]
  },
  {
   "cell_type": "code",
   "execution_count": 45,
   "id": "2b5cd0f1",
   "metadata": {},
   "outputs": [
    {
     "name": "stdout",
     "output_type": "stream",
     "text": [
      "[10, 20, 30, 40, 50, 60, 33, 11, 100]\n"
     ]
    }
   ],
   "source": [
    "l = [10,20,30,40,50,60,33,11,100]\n",
    "#     0  1  2  3  4  5  6  7  8\n",
    "print(l)"
   ]
  },
  {
   "cell_type": "code",
   "execution_count": 46,
   "id": "93fbafcc",
   "metadata": {},
   "outputs": [
    {
     "data": {
      "text/plain": [
       "[10, 20, 30, 40, 50]"
      ]
     },
     "execution_count": 46,
     "metadata": {},
     "output_type": "execute_result"
    }
   ],
   "source": [
    "l[0:5]  #  start:end"
   ]
  },
  {
   "cell_type": "code",
   "execution_count": 47,
   "id": "d21c9025",
   "metadata": {},
   "outputs": [
    {
     "data": {
      "text/plain": [
       "[50, 60, 33, 11, 100]"
      ]
     },
     "execution_count": 47,
     "metadata": {},
     "output_type": "execute_result"
    }
   ],
   "source": [
    "l[4:9]"
   ]
  },
  {
   "cell_type": "code",
   "execution_count": 48,
   "id": "1668622e",
   "metadata": {},
   "outputs": [
    {
     "data": {
      "text/plain": [
       "[10, 20, 30, 40, 50, 60, 33, 11, 100]"
      ]
     },
     "execution_count": 48,
     "metadata": {},
     "output_type": "execute_result"
    }
   ],
   "source": [
    "l"
   ]
  },
  {
   "cell_type": "code",
   "execution_count": 49,
   "id": "d9b056d2",
   "metadata": {},
   "outputs": [
    {
     "data": {
      "text/plain": [
       "[30, 40, 50, 60]"
      ]
     },
     "execution_count": 49,
     "metadata": {},
     "output_type": "execute_result"
    }
   ],
   "source": [
    "l[2:6]"
   ]
  },
  {
   "cell_type": "code",
   "execution_count": 50,
   "id": "3618cf59",
   "metadata": {},
   "outputs": [
    {
     "name": "stdout",
     "output_type": "stream",
     "text": [
      "[10, 20, 30, 40, 50, 60, 33, 11, 100]\n"
     ]
    }
   ],
   "source": [
    "l = [10,20,30,40,50,60,33,11,100]\n",
    "#     0  1  2  3  4  5  6  7  8\n",
    "print(l)"
   ]
  },
  {
   "cell_type": "code",
   "execution_count": 51,
   "id": "0ec8e6ac",
   "metadata": {},
   "outputs": [
    {
     "data": {
      "text/plain": [
       "[]"
      ]
     },
     "execution_count": 51,
     "metadata": {},
     "output_type": "execute_result"
    }
   ],
   "source": [
    "l[4:1]"
   ]
  },
  {
   "cell_type": "code",
   "execution_count": 52,
   "id": "524bc078",
   "metadata": {},
   "outputs": [
    {
     "data": {
      "text/plain": [
       "[20, 30, 40]"
      ]
     },
     "execution_count": 52,
     "metadata": {},
     "output_type": "execute_result"
    }
   ],
   "source": [
    "l[1:4]"
   ]
  },
  {
   "cell_type": "code",
   "execution_count": 53,
   "id": "ccb92a01",
   "metadata": {},
   "outputs": [
    {
     "name": "stdout",
     "output_type": "stream",
     "text": [
      "[10, 20, 30, 40, 50, 60, 33, 11, 100]\n"
     ]
    }
   ],
   "source": [
    "#    -9 -8 -7 -6 -5 -4 -3 -2 -1\n",
    "l = [10,20,30,40,50,60,33,11,100]\n",
    "#     0  1  2  3  4  5  6  7  8\n",
    "print(l)"
   ]
  },
  {
   "cell_type": "code",
   "execution_count": 54,
   "id": "9dd5e2dc",
   "metadata": {},
   "outputs": [
    {
     "data": {
      "text/plain": [
       "[60, 33, 11]"
      ]
     },
     "execution_count": 54,
     "metadata": {},
     "output_type": "execute_result"
    }
   ],
   "source": [
    "l[-4:-1]"
   ]
  },
  {
   "cell_type": "code",
   "execution_count": 55,
   "id": "ba0a388f",
   "metadata": {},
   "outputs": [
    {
     "data": {
      "text/plain": [
       "[]"
      ]
     },
     "execution_count": 55,
     "metadata": {},
     "output_type": "execute_result"
    }
   ],
   "source": [
    "l[-1:-4]"
   ]
  },
  {
   "cell_type": "code",
   "execution_count": 56,
   "id": "46fe822e",
   "metadata": {},
   "outputs": [
    {
     "name": "stdout",
     "output_type": "stream",
     "text": [
      "[10, 20, 30, 40, 50, 60, 33, 11, 100]\n"
     ]
    }
   ],
   "source": [
    "#    -9 -8 -7 -6 -5 -4 -3 -2 -1\n",
    "l = [10,20,30,40,50,60,33,11,100]\n",
    "#     0  1  2  3  4  5  6  7  8\n",
    "print(l)"
   ]
  },
  {
   "cell_type": "code",
   "execution_count": 57,
   "id": "7056f6ec",
   "metadata": {},
   "outputs": [
    {
     "name": "stdout",
     "output_type": "stream",
     "text": [
      "[10, 20, 30, 40, 50, 60, 33, 11, 100]\n"
     ]
    }
   ],
   "source": [
    "print(l[:])"
   ]
  },
  {
   "cell_type": "code",
   "execution_count": 58,
   "id": "ce64540b",
   "metadata": {},
   "outputs": [
    {
     "name": "stdout",
     "output_type": "stream",
     "text": [
      "[40, 50, 60, 33, 11, 100]\n"
     ]
    }
   ],
   "source": [
    "print(l[3:])"
   ]
  },
  {
   "cell_type": "code",
   "execution_count": 59,
   "id": "fbc6bbef",
   "metadata": {},
   "outputs": [
    {
     "name": "stdout",
     "output_type": "stream",
     "text": [
      "[10, 30, 50, 33, 100]\n"
     ]
    }
   ],
   "source": [
    "print(l[::2]) # start:end:steps"
   ]
  },
  {
   "cell_type": "code",
   "execution_count": 60,
   "id": "aad56e6f",
   "metadata": {},
   "outputs": [
    {
     "data": {
      "text/plain": [
       "[10, 20, 30, 40, 50, 60, 33, 11, 100]"
      ]
     },
     "execution_count": 60,
     "metadata": {},
     "output_type": "execute_result"
    }
   ],
   "source": [
    "l"
   ]
  },
  {
   "cell_type": "code",
   "execution_count": 61,
   "id": "88f5d81d",
   "metadata": {},
   "outputs": [],
   "source": [
    "a = l[::2]"
   ]
  },
  {
   "cell_type": "code",
   "execution_count": 62,
   "id": "28a74499",
   "metadata": {},
   "outputs": [
    {
     "data": {
      "text/plain": [
       "[10, 30, 50, 33, 100]"
      ]
     },
     "execution_count": 62,
     "metadata": {},
     "output_type": "execute_result"
    }
   ],
   "source": [
    "a"
   ]
  },
  {
   "cell_type": "code",
   "execution_count": 63,
   "id": "20e438c0",
   "metadata": {},
   "outputs": [
    {
     "name": "stdout",
     "output_type": "stream",
     "text": [
      "<class 'list'>\n"
     ]
    }
   ],
   "source": [
    "print(type(a))"
   ]
  },
  {
   "cell_type": "code",
   "execution_count": 64,
   "id": "a0d359ec",
   "metadata": {},
   "outputs": [
    {
     "data": {
      "text/plain": [
       "[10, 20, 30, 40, 50, 60, 33, 11, 100]"
      ]
     },
     "execution_count": 64,
     "metadata": {},
     "output_type": "execute_result"
    }
   ],
   "source": [
    "l"
   ]
  },
  {
   "cell_type": "code",
   "execution_count": 65,
   "id": "e683b176",
   "metadata": {},
   "outputs": [
    {
     "data": {
      "text/plain": [
       "[]"
      ]
     },
     "execution_count": 65,
     "metadata": {},
     "output_type": "execute_result"
    }
   ],
   "source": [
    "l[4:1]"
   ]
  },
  {
   "cell_type": "code",
   "execution_count": 66,
   "id": "6154c71f",
   "metadata": {},
   "outputs": [
    {
     "data": {
      "text/plain": [
       "[50, 40, 30]"
      ]
     },
     "execution_count": 66,
     "metadata": {},
     "output_type": "execute_result"
    }
   ],
   "source": [
    "l[4:1:-1]"
   ]
  },
  {
   "cell_type": "code",
   "execution_count": 67,
   "id": "02b32dd5",
   "metadata": {},
   "outputs": [
    {
     "data": {
      "text/plain": [
       "[11, 33, 60, 50, 40]"
      ]
     },
     "execution_count": 67,
     "metadata": {},
     "output_type": "execute_result"
    }
   ],
   "source": [
    "l[7:2:-1]"
   ]
  },
  {
   "cell_type": "code",
   "execution_count": 68,
   "id": "55fc0251",
   "metadata": {},
   "outputs": [
    {
     "data": {
      "text/plain": [
       "[10, 20, 30, 40, 50, 60, 33, 11, 100]"
      ]
     },
     "execution_count": 68,
     "metadata": {},
     "output_type": "execute_result"
    }
   ],
   "source": [
    "l"
   ]
  },
  {
   "cell_type": "code",
   "execution_count": 69,
   "id": "858be360",
   "metadata": {},
   "outputs": [
    {
     "data": {
      "text/plain": [
       "[]"
      ]
     },
     "execution_count": 69,
     "metadata": {},
     "output_type": "execute_result"
    }
   ],
   "source": [
    "l[1:4:-1]"
   ]
  },
  {
   "cell_type": "code",
   "execution_count": 70,
   "id": "97af5b8e",
   "metadata": {},
   "outputs": [
    {
     "data": {
      "text/plain": [
       "[100, 11, 33, 60, 50, 40, 30, 20, 10]"
      ]
     },
     "execution_count": 70,
     "metadata": {},
     "output_type": "execute_result"
    }
   ],
   "source": [
    "l[::-1]"
   ]
  },
  {
   "cell_type": "markdown",
   "id": "bdef2e2a",
   "metadata": {},
   "source": [
    "# String"
   ]
  },
  {
   "cell_type": "code",
   "execution_count": 71,
   "id": "aa4c57f0",
   "metadata": {},
   "outputs": [
    {
     "name": "stdout",
     "output_type": "stream",
     "text": [
      "indore\n",
      "<class 'str'>\n"
     ]
    }
   ],
   "source": [
    "s = \"indore\"\n",
    "\n",
    "print(s)\n",
    "\n",
    "print(type(s))"
   ]
  },
  {
   "cell_type": "code",
   "execution_count": 72,
   "id": "1f762743",
   "metadata": {},
   "outputs": [
    {
     "name": "stdout",
     "output_type": "stream",
     "text": [
      "indore\n",
      "<class 'str'>\n"
     ]
    }
   ],
   "source": [
    "s = 'indore'\n",
    "\n",
    "print(s)\n",
    "\n",
    "print(type(s))"
   ]
  },
  {
   "cell_type": "code",
   "execution_count": 73,
   "id": "d284d734",
   "metadata": {},
   "outputs": [
    {
     "ename": "SyntaxError",
     "evalue": "invalid syntax (1051305666.py, line 1)",
     "output_type": "error",
     "traceback": [
      "\u001b[1;36m  Input \u001b[1;32mIn [73]\u001b[1;36m\u001b[0m\n\u001b[1;33m    s = 'it's'\u001b[0m\n\u001b[1;37m            ^\u001b[0m\n\u001b[1;31mSyntaxError\u001b[0m\u001b[1;31m:\u001b[0m invalid syntax\n"
     ]
    }
   ],
   "source": [
    "s = 'it's'\n",
    "\n",
    "print(s)"
   ]
  },
  {
   "cell_type": "code",
   "execution_count": 74,
   "id": "50a5b516",
   "metadata": {},
   "outputs": [
    {
     "name": "stdout",
     "output_type": "stream",
     "text": [
      "it's\n"
     ]
    }
   ],
   "source": [
    "s = \"it's\"\n",
    "\n",
    "print(s)"
   ]
  },
  {
   "cell_type": "code",
   "execution_count": 75,
   "id": "4d79feb1",
   "metadata": {},
   "outputs": [
    {
     "name": "stdout",
     "output_type": "stream",
     "text": [
      "\"Hello\"\n"
     ]
    }
   ],
   "source": [
    "print('\"Hello\"')"
   ]
  },
  {
   "cell_type": "code",
   "execution_count": 76,
   "id": "f2cd573a",
   "metadata": {},
   "outputs": [
    {
     "name": "stdout",
     "output_type": "stream",
     "text": [
      "i\n"
     ]
    }
   ],
   "source": [
    "#        -1\n",
    "s = 'indore'\n",
    "#    012345\n",
    "\n",
    "print(s[0])"
   ]
  },
  {
   "cell_type": "code",
   "execution_count": 77,
   "id": "aa2b14d1",
   "metadata": {},
   "outputs": [
    {
     "name": "stdout",
     "output_type": "stream",
     "text": [
      "e\n"
     ]
    }
   ],
   "source": [
    "print(s[-1])"
   ]
  },
  {
   "cell_type": "code",
   "execution_count": 78,
   "id": "929bc4e6",
   "metadata": {},
   "outputs": [
    {
     "name": "stdout",
     "output_type": "stream",
     "text": [
      "cmuiain\n"
     ]
    }
   ],
   "source": [
    "s = 'communication'\n",
    "\n",
    "print(s[::2])"
   ]
  },
  {
   "cell_type": "code",
   "execution_count": 79,
   "id": "b5f6d87b",
   "metadata": {},
   "outputs": [
    {
     "data": {
      "text/plain": [
       "'communication'"
      ]
     },
     "execution_count": 79,
     "metadata": {},
     "output_type": "execute_result"
    }
   ],
   "source": [
    "s"
   ]
  },
  {
   "cell_type": "code",
   "execution_count": 80,
   "id": "c2617c89",
   "metadata": {},
   "outputs": [
    {
     "name": "stdout",
     "output_type": "stream",
     "text": [
      "noitacinummoc\n"
     ]
    }
   ],
   "source": [
    "print(s[::-1])"
   ]
  },
  {
   "cell_type": "code",
   "execution_count": 81,
   "id": "860c58e7",
   "metadata": {},
   "outputs": [
    {
     "ename": "TypeError",
     "evalue": "'str' object does not support item assignment",
     "output_type": "error",
     "traceback": [
      "\u001b[1;31m---------------------------------------------------------------------------\u001b[0m",
      "\u001b[1;31mTypeError\u001b[0m                                 Traceback (most recent call last)",
      "Input \u001b[1;32mIn [81]\u001b[0m, in \u001b[0;36m<cell line: 3>\u001b[1;34m()\u001b[0m\n\u001b[0;32m      1\u001b[0m s \u001b[38;5;241m=\u001b[39m \u001b[38;5;124m\"\u001b[39m\u001b[38;5;124mIndia\u001b[39m\u001b[38;5;124m\"\u001b[39m\n\u001b[1;32m----> 3\u001b[0m s[\u001b[38;5;241m0\u001b[39m] \u001b[38;5;241m=\u001b[39m \u001b[38;5;124m\"\u001b[39m\u001b[38;5;124mA\u001b[39m\u001b[38;5;124m\"\u001b[39m\n\u001b[0;32m      5\u001b[0m \u001b[38;5;28mprint\u001b[39m(s)\n",
      "\u001b[1;31mTypeError\u001b[0m: 'str' object does not support item assignment"
     ]
    }
   ],
   "source": [
    "s = \"India\"\n",
    "\n",
    "s[0] = \"A\"\n",
    "\n",
    "print(s)"
   ]
  },
  {
   "cell_type": "code",
   "execution_count": null,
   "id": "e96ba71b",
   "metadata": {},
   "outputs": [],
   "source": [
    "# str objects are immutable\n",
    "\n"
   ]
  },
  {
   "cell_type": "markdown",
   "id": "979b532a",
   "metadata": {},
   "source": [
    "# string functions"
   ]
  },
  {
   "cell_type": "code",
   "execution_count": 82,
   "id": "cf6b4ade",
   "metadata": {},
   "outputs": [
    {
     "name": "stdout",
     "output_type": "stream",
     "text": [
      "5\n"
     ]
    }
   ],
   "source": [
    "s = \"India\"\n",
    "\n",
    "print(len(s))"
   ]
  },
  {
   "cell_type": "code",
   "execution_count": 83,
   "id": "4ce7e257",
   "metadata": {},
   "outputs": [
    {
     "ename": "TypeError",
     "evalue": "unsupported operand type(s) for +: 'int' and 'str'",
     "output_type": "error",
     "traceback": [
      "\u001b[1;31m---------------------------------------------------------------------------\u001b[0m",
      "\u001b[1;31mTypeError\u001b[0m                                 Traceback (most recent call last)",
      "Input \u001b[1;32mIn [83]\u001b[0m, in \u001b[0;36m<cell line: 1>\u001b[1;34m()\u001b[0m\n\u001b[1;32m----> 1\u001b[0m \u001b[38;5;28mprint\u001b[39m(\u001b[38;5;28;43msum\u001b[39;49m\u001b[43m(\u001b[49m\u001b[43ms\u001b[49m\u001b[43m)\u001b[49m)\n",
      "\u001b[1;31mTypeError\u001b[0m: unsupported operand type(s) for +: 'int' and 'str'"
     ]
    }
   ],
   "source": [
    "print(sum(s))"
   ]
  },
  {
   "cell_type": "code",
   "execution_count": 84,
   "id": "18855f6b",
   "metadata": {},
   "outputs": [
    {
     "data": {
      "text/plain": [
       "'India'"
      ]
     },
     "execution_count": 84,
     "metadata": {},
     "output_type": "execute_result"
    }
   ],
   "source": [
    "s"
   ]
  },
  {
   "cell_type": "code",
   "execution_count": 85,
   "id": "dcde04d5",
   "metadata": {},
   "outputs": [
    {
     "name": "stdout",
     "output_type": "stream",
     "text": [
      "n\n"
     ]
    }
   ],
   "source": [
    "print(max(s))"
   ]
  },
  {
   "cell_type": "code",
   "execution_count": 86,
   "id": "123726cc",
   "metadata": {},
   "outputs": [
    {
     "name": "stdout",
     "output_type": "stream",
     "text": [
      "I\n"
     ]
    }
   ],
   "source": [
    "print(min(s))"
   ]
  },
  {
   "cell_type": "code",
   "execution_count": null,
   "id": "253917be",
   "metadata": {},
   "outputs": [],
   "source": [
    "# ASCII\n",
    "\n",
    "A -> 65\n",
    "B -> 66\n",
    "Z -> 90\n",
    "\n",
    "a -> 97\n",
    "z -> 122\n",
    "\n",
    "space -> 32"
   ]
  },
  {
   "cell_type": "code",
   "execution_count": null,
   "id": "ada9a5d6",
   "metadata": {},
   "outputs": [],
   "source": [
    "10 -> 1010"
   ]
  },
  {
   "cell_type": "code",
   "execution_count": 87,
   "id": "ffe9ec3d",
   "metadata": {},
   "outputs": [
    {
     "name": "stdout",
     "output_type": "stream",
     "text": [
      "<class 'bool'>\n"
     ]
    }
   ],
   "source": [
    "print(type(True))"
   ]
  },
  {
   "cell_type": "code",
   "execution_count": 88,
   "id": "c34d169f",
   "metadata": {},
   "outputs": [
    {
     "name": "stdout",
     "output_type": "stream",
     "text": [
      "False\n"
     ]
    }
   ],
   "source": [
    "print(bool(0))"
   ]
  },
  {
   "cell_type": "code",
   "execution_count": 89,
   "id": "8506ced4",
   "metadata": {},
   "outputs": [
    {
     "name": "stdout",
     "output_type": "stream",
     "text": [
      "True\n"
     ]
    }
   ],
   "source": [
    "print(bool(1))"
   ]
  },
  {
   "cell_type": "code",
   "execution_count": 90,
   "id": "a33879d4",
   "metadata": {},
   "outputs": [
    {
     "name": "stdout",
     "output_type": "stream",
     "text": [
      "True\n"
     ]
    }
   ],
   "source": [
    "print(bool(20))"
   ]
  },
  {
   "cell_type": "code",
   "execution_count": 91,
   "id": "1218ae08",
   "metadata": {},
   "outputs": [
    {
     "name": "stdout",
     "output_type": "stream",
     "text": [
      "True\n"
     ]
    }
   ],
   "source": [
    "print(bool(\"A\"))"
   ]
  },
  {
   "cell_type": "code",
   "execution_count": 92,
   "id": "4b024546",
   "metadata": {},
   "outputs": [
    {
     "name": "stdout",
     "output_type": "stream",
     "text": [
      "True\n"
     ]
    }
   ],
   "source": [
    "print(bool(\"Indore\"))"
   ]
  },
  {
   "cell_type": "code",
   "execution_count": 93,
   "id": "77dbd1ca",
   "metadata": {},
   "outputs": [
    {
     "name": "stdout",
     "output_type": "stream",
     "text": [
      "True\n"
     ]
    }
   ],
   "source": [
    "print(bool(\" \"))"
   ]
  },
  {
   "cell_type": "code",
   "execution_count": 97,
   "id": "bd04a634",
   "metadata": {},
   "outputs": [
    {
     "name": "stdout",
     "output_type": "stream",
     "text": [
      "False\n"
     ]
    }
   ],
   "source": [
    "print(bool(\"\"))"
   ]
  },
  {
   "cell_type": "code",
   "execution_count": 96,
   "id": "4b0ee82e",
   "metadata": {},
   "outputs": [
    {
     "name": "stdout",
     "output_type": "stream",
     "text": [
      "\n",
      "<class 'str'>\n"
     ]
    }
   ],
   "source": [
    "s = \"\"\n",
    "\n",
    "print(s)\n",
    "\n",
    "print(type(s))"
   ]
  },
  {
   "cell_type": "code",
   "execution_count": 95,
   "id": "b53828f0",
   "metadata": {},
   "outputs": [
    {
     "data": {
      "text/plain": [
       "'AB'"
      ]
     },
     "execution_count": 95,
     "metadata": {},
     "output_type": "execute_result"
    }
   ],
   "source": [
    "\"A\" + \"\" + \"B\""
   ]
  },
  {
   "cell_type": "code",
   "execution_count": null,
   "id": "ff39f815",
   "metadata": {},
   "outputs": [],
   "source": [
    "s = \"\""
   ]
  }
 ],
 "metadata": {
  "kernelspec": {
   "display_name": "Python 3 (ipykernel)",
   "language": "python",
   "name": "python3"
  },
  "language_info": {
   "codemirror_mode": {
    "name": "ipython",
    "version": 3
   },
   "file_extension": ".py",
   "mimetype": "text/x-python",
   "name": "python",
   "nbconvert_exporter": "python",
   "pygments_lexer": "ipython3",
   "version": "3.9.12"
  }
 },
 "nbformat": 4,
 "nbformat_minor": 5
}
