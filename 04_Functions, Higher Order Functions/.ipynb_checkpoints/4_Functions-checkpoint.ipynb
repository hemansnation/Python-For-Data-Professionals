{
 "cells": [
  {
   "cell_type": "markdown",
   "id": "d9d3b384",
   "metadata": {},
   "source": [
    "# Functions"
   ]
  },
  {
   "cell_type": "code",
   "execution_count": 1,
   "id": "243d1342",
   "metadata": {},
   "outputs": [],
   "source": [
    "def myfunction():        # definition of a function\n",
    "    print(\"Hey\")"
   ]
  },
  {
   "cell_type": "code",
   "execution_count": 2,
   "id": "e16c3fe1",
   "metadata": {},
   "outputs": [
    {
     "name": "stdout",
     "output_type": "stream",
     "text": [
      "Hey\n"
     ]
    }
   ],
   "source": [
    "myfunction()             # calling a function"
   ]
  },
  {
   "cell_type": "code",
   "execution_count": 3,
   "id": "886a44ce",
   "metadata": {},
   "outputs": [
    {
     "name": "stdout",
     "output_type": "stream",
     "text": [
      "1\n",
      "2\n",
      "1\n",
      "2\n"
     ]
    }
   ],
   "source": [
    "def paint():\n",
    "    print(1)\n",
    "    print(2)\n",
    "\n",
    "paint()\n",
    "paint()"
   ]
  },
  {
   "cell_type": "code",
   "execution_count": 4,
   "id": "67a3cf6c",
   "metadata": {},
   "outputs": [
    {
     "ename": "NameError",
     "evalue": "name 'hello' is not defined",
     "output_type": "error",
     "traceback": [
      "\u001b[1;31m---------------------------------------------------------------------------\u001b[0m",
      "\u001b[1;31mNameError\u001b[0m                                 Traceback (most recent call last)",
      "Input \u001b[1;32mIn [4]\u001b[0m, in \u001b[0;36m<cell line: 1>\u001b[1;34m()\u001b[0m\n\u001b[1;32m----> 1\u001b[0m \u001b[43mhello\u001b[49m()\n\u001b[0;32m      3\u001b[0m \u001b[38;5;28;01mdef\u001b[39;00m \u001b[38;5;21mhello\u001b[39m():\n\u001b[0;32m      4\u001b[0m     \u001b[38;5;28mprint\u001b[39m(\u001b[38;5;124m\"\u001b[39m\u001b[38;5;124mHello\u001b[39m\u001b[38;5;124m\"\u001b[39m)\n",
      "\u001b[1;31mNameError\u001b[0m: name 'hello' is not defined"
     ]
    }
   ],
   "source": [
    "hello()\n",
    "\n",
    "def hello():\n",
    "    print(\"Hello\")"
   ]
  },
  {
   "cell_type": "code",
   "execution_count": 6,
   "id": "d6dbe303",
   "metadata": {},
   "outputs": [
    {
     "name": "stdout",
     "output_type": "stream",
     "text": [
      "2\n"
     ]
    }
   ],
   "source": [
    "def indore(a):   #  a = 2\n",
    "    print(a)\n",
    "\n",
    "indore(2)"
   ]
  },
  {
   "cell_type": "code",
   "execution_count": 7,
   "id": "81f5c08c",
   "metadata": {},
   "outputs": [
    {
     "name": "stdout",
     "output_type": "stream",
     "text": [
      "A\n"
     ]
    }
   ],
   "source": [
    "indore(\"A\")"
   ]
  },
  {
   "cell_type": "code",
   "execution_count": 8,
   "id": "6ae7d3c9",
   "metadata": {},
   "outputs": [
    {
     "name": "stdout",
     "output_type": "stream",
     "text": [
      "right\n"
     ]
    }
   ],
   "source": [
    "indore('right')"
   ]
  },
  {
   "cell_type": "code",
   "execution_count": 9,
   "id": "8f88c2be",
   "metadata": {},
   "outputs": [
    {
     "name": "stdout",
     "output_type": "stream",
     "text": [
      "9\n"
     ]
    }
   ],
   "source": [
    "def add(x,y):\n",
    "    print(x+y)\n",
    "\n",
    "add(5,4)"
   ]
  },
  {
   "cell_type": "code",
   "execution_count": 10,
   "id": "652ebe88",
   "metadata": {},
   "outputs": [
    {
     "name": "stdout",
     "output_type": "stream",
     "text": [
      "8\n"
     ]
    },
    {
     "ename": "NameError",
     "evalue": "name 'v' is not defined",
     "output_type": "error",
     "traceback": [
      "\u001b[1;31m---------------------------------------------------------------------------\u001b[0m",
      "\u001b[1;31mNameError\u001b[0m                                 Traceback (most recent call last)",
      "Input \u001b[1;32mIn [10]\u001b[0m, in \u001b[0;36m<cell line: 6>\u001b[1;34m()\u001b[0m\n\u001b[0;32m      3\u001b[0m     \u001b[38;5;28mprint\u001b[39m(v)\n\u001b[0;32m      5\u001b[0m add1(\u001b[38;5;241m7\u001b[39m)\n\u001b[1;32m----> 6\u001b[0m \u001b[38;5;28mprint\u001b[39m(\u001b[43mv\u001b[49m)\n",
      "\u001b[1;31mNameError\u001b[0m: name 'v' is not defined"
     ]
    }
   ],
   "source": [
    "def add1(v):         # v is a local variable\n",
    "    v += 1\n",
    "    print(v)\n",
    "\n",
    "add1(7)\n",
    "print(v)"
   ]
  },
  {
   "cell_type": "code",
   "execution_count": 11,
   "id": "3f341729",
   "metadata": {},
   "outputs": [
    {
     "name": "stdout",
     "output_type": "stream",
     "text": [
      "8\n",
      "3\n"
     ]
    }
   ],
   "source": [
    "v = 3                # v is a global variable\n",
    "def add1(v):         # v is a local variable\n",
    "    v += 1\n",
    "    print(v)\n",
    "\n",
    "add1(7)\n",
    "print(v)"
   ]
  },
  {
   "cell_type": "markdown",
   "id": "1d8c04b4",
   "metadata": {},
   "source": [
    "# Return statement"
   ]
  },
  {
   "cell_type": "code",
   "execution_count": 12,
   "id": "d9448b85",
   "metadata": {},
   "outputs": [
    {
     "name": "stdout",
     "output_type": "stream",
     "text": [
      "7\n"
     ]
    }
   ],
   "source": [
    "def play(x,y):\n",
    "    if x >= y:\n",
    "        return x\n",
    "    else:\n",
    "        return y\n",
    "    \n",
    "print(play(4,7))\n",
    "#        7"
   ]
  },
  {
   "cell_type": "code",
   "execution_count": 13,
   "id": "60b36c25",
   "metadata": {},
   "outputs": [
    {
     "name": "stdout",
     "output_type": "stream",
     "text": [
      "Hi\n"
     ]
    }
   ],
   "source": [
    "play(6,3)\n",
    "print(\"Hi\")"
   ]
  },
  {
   "cell_type": "code",
   "execution_count": 14,
   "id": "df5a800d",
   "metadata": {},
   "outputs": [
    {
     "name": "stdout",
     "output_type": "stream",
     "text": [
      "6\n"
     ]
    }
   ],
   "source": [
    "z = play(6,3)\n",
    "\n",
    "print(z)"
   ]
  },
  {
   "cell_type": "code",
   "execution_count": 15,
   "id": "f5949553",
   "metadata": {},
   "outputs": [
    {
     "name": "stdout",
     "output_type": "stream",
     "text": [
      "9\n"
     ]
    }
   ],
   "source": [
    "def sub(x,y):\n",
    "    t = x + y\n",
    "    return t\n",
    "    print(\"Hi\")\n",
    "\n",
    "print(sub(4,5))"
   ]
  },
  {
   "cell_type": "code",
   "execution_count": 16,
   "id": "75b9655c",
   "metadata": {},
   "outputs": [
    {
     "name": "stdout",
     "output_type": "stream",
     "text": [
      "1\n",
      "2\n"
     ]
    }
   ],
   "source": [
    "def pre():\n",
    "    print(1)\n",
    "    print(2)\n",
    "    return\n",
    "    print(3)\n",
    "    print(4)\n",
    "\n",
    "pre()"
   ]
  },
  {
   "cell_type": "code",
   "execution_count": 17,
   "id": "3a7aca44",
   "metadata": {},
   "outputs": [
    {
     "name": "stdout",
     "output_type": "stream",
     "text": [
      "1\n",
      "2\n",
      "None\n"
     ]
    }
   ],
   "source": [
    "print(pre())"
   ]
  },
  {
   "cell_type": "code",
   "execution_count": null,
   "id": "7b181a5c",
   "metadata": {},
   "outputs": [],
   "source": [
    "None == NULL"
   ]
  },
  {
   "cell_type": "code",
   "execution_count": null,
   "id": "e926f675",
   "metadata": {},
   "outputs": [],
   "source": [
    "None"
   ]
  },
  {
   "cell_type": "code",
   "execution_count": 18,
   "id": "255483b8",
   "metadata": {},
   "outputs": [
    {
     "name": "stdout",
     "output_type": "stream",
     "text": [
      "Hi\n",
      "None\n"
     ]
    }
   ],
   "source": [
    "def hello():\n",
    "    print(\"Hi\")\n",
    "\n",
    "print(hello())"
   ]
  },
  {
   "cell_type": "markdown",
   "id": "24d6f6c6",
   "metadata": {},
   "source": [
    "# Default Statements"
   ]
  },
  {
   "cell_type": "code",
   "execution_count": 19,
   "id": "0d69b81d",
   "metadata": {},
   "outputs": [
    {
     "name": "stdout",
     "output_type": "stream",
     "text": [
      "Hello\n"
     ]
    }
   ],
   "source": [
    "def say(msg, time = 1):\n",
    "    print(msg * time)\n",
    "\n",
    "say(\"Hello\")"
   ]
  },
  {
   "cell_type": "code",
   "execution_count": 20,
   "id": "9c21265c",
   "metadata": {},
   "outputs": [
    {
     "data": {
      "text/plain": [
       "'hihihihihi'"
      ]
     },
     "execution_count": 20,
     "metadata": {},
     "output_type": "execute_result"
    }
   ],
   "source": [
    "\"hi\" * 5"
   ]
  },
  {
   "cell_type": "code",
   "execution_count": 21,
   "id": "6900b987",
   "metadata": {},
   "outputs": [
    {
     "name": "stdout",
     "output_type": "stream",
     "text": [
      "ByeByeByeByeBye\n"
     ]
    }
   ],
   "source": [
    "def say(msg, time = 1):\n",
    "    print(msg * time)\n",
    "\n",
    "say(\"Bye\", 5)"
   ]
  },
  {
   "cell_type": "code",
   "execution_count": 22,
   "id": "040c9235",
   "metadata": {},
   "outputs": [],
   "source": [
    "def said(a, b = 5, c = 10):\n",
    "    print(a)\n",
    "    print(b)\n",
    "    print(c)"
   ]
  },
  {
   "cell_type": "code",
   "execution_count": 23,
   "id": "de8f4951",
   "metadata": {},
   "outputs": [
    {
     "name": "stdout",
     "output_type": "stream",
     "text": [
      "3\n",
      "7\n",
      "10\n"
     ]
    }
   ],
   "source": [
    "said(3,7)"
   ]
  },
  {
   "cell_type": "code",
   "execution_count": 24,
   "id": "02085cae",
   "metadata": {},
   "outputs": [
    {
     "name": "stdout",
     "output_type": "stream",
     "text": [
      "25\n",
      "5\n",
      "24\n"
     ]
    }
   ],
   "source": [
    "said(25, c = 24)"
   ]
  },
  {
   "cell_type": "code",
   "execution_count": 25,
   "id": "4028a4d1",
   "metadata": {},
   "outputs": [
    {
     "name": "stdout",
     "output_type": "stream",
     "text": [
      "100\n",
      "5\n",
      "50\n"
     ]
    }
   ],
   "source": [
    "said(c = 50, a = 100)"
   ]
  },
  {
   "cell_type": "code",
   "execution_count": 26,
   "id": "146e99d7",
   "metadata": {
    "scrolled": true
   },
   "outputs": [
    {
     "ename": "SyntaxError",
     "evalue": "positional argument follows keyword argument (1430650584.py, line 1)",
     "output_type": "error",
     "traceback": [
      "\u001b[1;36m  Input \u001b[1;32mIn [26]\u001b[1;36m\u001b[0m\n\u001b[1;33m    said(c = 12, 30)\u001b[0m\n\u001b[1;37m                   ^\u001b[0m\n\u001b[1;31mSyntaxError\u001b[0m\u001b[1;31m:\u001b[0m positional argument follows keyword argument\n"
     ]
    }
   ],
   "source": [
    "said(c = 12, 30)"
   ]
  },
  {
   "cell_type": "code",
   "execution_count": 27,
   "id": "47ae9ba2",
   "metadata": {},
   "outputs": [
    {
     "name": "stdout",
     "output_type": "stream",
     "text": [
      "0\n"
     ]
    }
   ],
   "source": [
    "i = 0\n",
    "def change(i):\n",
    "    i += 1\n",
    "    return 1\n",
    "\n",
    "change(1)\n",
    "print(i)"
   ]
  },
  {
   "cell_type": "markdown",
   "id": "91908e9d",
   "metadata": {},
   "source": [
    "# Reference Function"
   ]
  },
  {
   "cell_type": "code",
   "execution_count": 28,
   "id": "1b93869f",
   "metadata": {},
   "outputs": [
    {
     "name": "stdout",
     "output_type": "stream",
     "text": [
      "28\n"
     ]
    }
   ],
   "source": [
    "def multiply(x,y):\n",
    "    return x * y\n",
    "\n",
    "\n",
    "operation = multiply\n",
    "\n",
    "\n",
    "print(operation(4,7))\n",
    "#      multiply(4,7)"
   ]
  },
  {
   "cell_type": "code",
   "execution_count": 31,
   "id": "cdbd1b8f",
   "metadata": {},
   "outputs": [
    {
     "name": "stdout",
     "output_type": "stream",
     "text": [
      "10\n",
      "2074337897040\n",
      "10\n",
      "2074337897040\n",
      "2074337897104\n"
     ]
    }
   ],
   "source": [
    "a = 10\n",
    "b = a\n",
    "print(a)\n",
    "print(id(a))\n",
    "print(b)\n",
    "print(id(b))\n",
    "b = 12\n",
    "print(id(b))"
   ]
  },
  {
   "cell_type": "code",
   "execution_count": 32,
   "id": "d45c303e",
   "metadata": {},
   "outputs": [
    {
     "name": "stdout",
     "output_type": "stream",
     "text": [
      "<class 'function'>\n"
     ]
    }
   ],
   "source": [
    "print(type(multiply))"
   ]
  },
  {
   "cell_type": "code",
   "execution_count": 33,
   "id": "777316a1",
   "metadata": {},
   "outputs": [
    {
     "name": "stdout",
     "output_type": "stream",
     "text": [
      "India!\n"
     ]
    }
   ],
   "source": [
    "def indore(a):\n",
    "    return a + \"!\"\n",
    "\n",
    "m = indore\n",
    "\n",
    "z = m('India')\n",
    "# indore('India')\n",
    "\n",
    "print(z)"
   ]
  },
  {
   "cell_type": "markdown",
   "id": "6ed66946",
   "metadata": {},
   "source": [
    "# Function as an Argument"
   ]
  },
  {
   "cell_type": "code",
   "execution_count": 34,
   "id": "ab2bb98b",
   "metadata": {},
   "outputs": [
    {
     "name": "stdout",
     "output_type": "stream",
     "text": [
      "30\n"
     ]
    }
   ],
   "source": [
    "def sub(x,y):\n",
    "    return x + y\n",
    "\n",
    "def do(red, x, y):   # red = sub\n",
    "    return red(red(x,y), red(x,y))\n",
    "    #      sub(sub(5,10), sub(5,10))\n",
    "    #      sub(   15     ,    15  )\n",
    "    #return 30\n",
    "a = 5\n",
    "b = 10\n",
    "\n",
    "print(do(sub, a, b))\n",
    "#          30"
   ]
  },
  {
   "cell_type": "code",
   "execution_count": 35,
   "id": "3b4e3747",
   "metadata": {},
   "outputs": [
    {
     "name": "stdout",
     "output_type": "stream",
     "text": [
      "81\n"
     ]
    }
   ],
   "source": [
    "def square(x):\n",
    "    return x * x\n",
    "\n",
    "def test(blue, x):\n",
    "    print(blue(x))\n",
    "    #   square(9)\n",
    "\n",
    "test(square, 9)"
   ]
  },
  {
   "cell_type": "code",
   "execution_count": 36,
   "id": "d8ce2e0b",
   "metadata": {},
   "outputs": [
    {
     "name": "stdout",
     "output_type": "stream",
     "text": [
      "[1]\n"
     ]
    }
   ],
   "source": [
    "def go(t):  # t = q = [0]\n",
    "    t[0] = 1   # t[0] = 1, t = [1] = q\n",
    "    \n",
    "q = [0]\n",
    "#    0\n",
    "go(q)\n",
    "print(q)"
   ]
  },
  {
   "cell_type": "code",
   "execution_count": 37,
   "id": "e0d4fe34",
   "metadata": {},
   "outputs": [
    {
     "name": "stdout",
     "output_type": "stream",
     "text": [
      "3\n",
      "4\n"
     ]
    }
   ],
   "source": [
    "def green(red, a):\n",
    "    print(red(a))\n",
    "\n",
    "green(max,[1,2,3])\n",
    "green(min,[4,5,6])"
   ]
  },
  {
   "cell_type": "code",
   "execution_count": 38,
   "id": "82edc6cc",
   "metadata": {},
   "outputs": [
    {
     "name": "stdout",
     "output_type": "stream",
     "text": [
      "0\n"
     ]
    }
   ],
   "source": [
    "def printn(x):\n",
    "    for i in range(x):\n",
    "        print(i)\n",
    "        return\n",
    "\n",
    "printn(10)"
   ]
  },
  {
   "cell_type": "markdown",
   "id": "361a1a86",
   "metadata": {},
   "source": [
    "# Lambda function\n",
    "\n",
    "anonymous function"
   ]
  },
  {
   "cell_type": "code",
   "execution_count": 39,
   "id": "37f10c3d",
   "metadata": {},
   "outputs": [
    {
     "name": "stdout",
     "output_type": "stream",
     "text": [
      "343\n"
     ]
    }
   ],
   "source": [
    "def cube(y):\n",
    "    return y * y * y\n",
    "\n",
    "\n",
    "# lambda argument : statement/expression\n",
    "g = lambda x: x * x * x\n",
    "\n",
    "print(g(7))"
   ]
  },
  {
   "cell_type": "code",
   "execution_count": 40,
   "id": "a30b53ee",
   "metadata": {},
   "outputs": [
    {
     "data": {
      "text/plain": [
       "343"
      ]
     },
     "execution_count": 40,
     "metadata": {},
     "output_type": "execute_result"
    }
   ],
   "source": [
    "cube(7)"
   ]
  },
  {
   "cell_type": "code",
   "execution_count": 41,
   "id": "4d299e4b",
   "metadata": {},
   "outputs": [
    {
     "name": "stdout",
     "output_type": "stream",
     "text": [
      "7\n",
      "None\n"
     ]
    }
   ],
   "source": [
    "g = lambda x: print(x)\n",
    "\n",
    "print(g(7))"
   ]
  },
  {
   "cell_type": "markdown",
   "id": "3d73b238",
   "metadata": {},
   "source": [
    "# Filter function"
   ]
  },
  {
   "cell_type": "code",
   "execution_count": 42,
   "id": "755bc6e4",
   "metadata": {},
   "outputs": [
    {
     "name": "stdout",
     "output_type": "stream",
     "text": [
      "[22, 44]\n"
     ]
    }
   ],
   "source": [
    "n = [11,22,33,44,55]\n",
    "\n",
    "r = list(filter(lambda x: x%2 == 0 , n))\n",
    "\n",
    "print(r)"
   ]
  },
  {
   "cell_type": "code",
   "execution_count": 43,
   "id": "547646b9",
   "metadata": {},
   "outputs": [
    {
     "name": "stdout",
     "output_type": "stream",
     "text": [
      "[11, 33, 55]\n"
     ]
    }
   ],
   "source": [
    "n = [11,22,33,44,55]\n",
    "\n",
    "r = list(filter(lambda x: x%2 == 1 , n))\n",
    "\n",
    "print(r)"
   ]
  },
  {
   "cell_type": "markdown",
   "id": "6024f003",
   "metadata": {},
   "source": [
    "# map function"
   ]
  },
  {
   "cell_type": "code",
   "execution_count": 44,
   "id": "fd40e98e",
   "metadata": {},
   "outputs": [
    {
     "name": "stdout",
     "output_type": "stream",
     "text": [
      "[6, 7, 8, 9, 10]\n"
     ]
    }
   ],
   "source": [
    "n = [1,2,3,4,5]\n",
    "\n",
    "r = list(map(lambda y: y + 5 , n))\n",
    "\n",
    "print(r)"
   ]
  },
  {
   "cell_type": "code",
   "execution_count": 45,
   "id": "624d82ea",
   "metadata": {},
   "outputs": [
    {
     "data": {
      "text/plain": [
       "'INDORE'"
      ]
     },
     "execution_count": 45,
     "metadata": {},
     "output_type": "execute_result"
    }
   ],
   "source": [
    "n = [\"indore\", 'goa', 'vizag']\n",
    "\n",
    "n[0].upper()"
   ]
  },
  {
   "cell_type": "code",
   "execution_count": 50,
   "id": "25643a01",
   "metadata": {
    "scrolled": false
   },
   "outputs": [],
   "source": [
    "# help(str)"
   ]
  },
  {
   "cell_type": "code",
   "execution_count": 51,
   "id": "02bda1b6",
   "metadata": {},
   "outputs": [
    {
     "data": {
      "text/plain": [
       "'INDIA'"
      ]
     },
     "execution_count": 51,
     "metadata": {},
     "output_type": "execute_result"
    }
   ],
   "source": [
    "\"india\".upper()"
   ]
  },
  {
   "cell_type": "code",
   "execution_count": 48,
   "id": "6773c993",
   "metadata": {},
   "outputs": [
    {
     "name": "stdout",
     "output_type": "stream",
     "text": [
      "['INDORE', 'GOA', 'VIZAG']\n"
     ]
    }
   ],
   "source": [
    "def up(a):\n",
    "    return a.upper()\n",
    "\n",
    "n = [\"indore\", 'goa', 'vizag']\n",
    "\n",
    "r = list(map(up, n))\n",
    "\n",
    "print(r)"
   ]
  },
  {
   "cell_type": "code",
   "execution_count": 52,
   "id": "ff001f1e",
   "metadata": {},
   "outputs": [
    {
     "name": "stdout",
     "output_type": "stream",
     "text": [
      "Help on class map in module builtins:\n",
      "\n",
      "class map(object)\n",
      " |  map(func, *iterables) --> map object\n",
      " |  \n",
      " |  Make an iterator that computes the function using arguments from\n",
      " |  each of the iterables.  Stops when the shortest iterable is exhausted.\n",
      " |  \n",
      " |  Methods defined here:\n",
      " |  \n",
      " |  __getattribute__(self, name, /)\n",
      " |      Return getattr(self, name).\n",
      " |  \n",
      " |  __iter__(self, /)\n",
      " |      Implement iter(self).\n",
      " |  \n",
      " |  __next__(self, /)\n",
      " |      Implement next(self).\n",
      " |  \n",
      " |  __reduce__(...)\n",
      " |      Return state information for pickling.\n",
      " |  \n",
      " |  ----------------------------------------------------------------------\n",
      " |  Static methods defined here:\n",
      " |  \n",
      " |  __new__(*args, **kwargs) from builtins.type\n",
      " |      Create and return a new object.  See help(type) for accurate signature.\n",
      "\n"
     ]
    }
   ],
   "source": [
    "help(map)"
   ]
  },
  {
   "cell_type": "markdown",
   "id": "f07c7946",
   "metadata": {},
   "source": [
    "# Closuers"
   ]
  },
  {
   "cell_type": "code",
   "execution_count": 53,
   "id": "98a47a83",
   "metadata": {},
   "outputs": [],
   "source": [
    "def add_ten():\n",
    "    ten = 10\n",
    "    \n",
    "    def add(n):\n",
    "        return n + ten\n",
    "    \n",
    "    return add"
   ]
  },
  {
   "cell_type": "code",
   "execution_count": 54,
   "id": "5f78a373",
   "metadata": {},
   "outputs": [
    {
     "name": "stdout",
     "output_type": "stream",
     "text": [
      "15\n"
     ]
    }
   ],
   "source": [
    "clouser_result = add_ten()\n",
    "\n",
    "print(clouser_result(5))\n",
    "#              add(5)"
   ]
  },
  {
   "cell_type": "code",
   "execution_count": 55,
   "id": "565827f6",
   "metadata": {},
   "outputs": [
    {
     "name": "stdout",
     "output_type": "stream",
     "text": [
      "20\n"
     ]
    }
   ],
   "source": [
    "print(clouser_result(10))"
   ]
  },
  {
   "cell_type": "markdown",
   "id": "b4f3a26c",
   "metadata": {},
   "source": [
    "# Decorators"
   ]
  },
  {
   "cell_type": "code",
   "execution_count": 57,
   "id": "7f12459c",
   "metadata": {
    "scrolled": false
   },
   "outputs": [],
   "source": [
    "# help(str)"
   ]
  },
  {
   "cell_type": "code",
   "execution_count": 58,
   "id": "3c579a09",
   "metadata": {},
   "outputs": [
    {
     "name": "stdout",
     "output_type": "stream",
     "text": [
      "HELLO HOW ARE YOU? WELCOME\n"
     ]
    }
   ],
   "source": [
    "def greeting():\n",
    "    return \"Hello How are you? Welcome\"\n",
    "\n",
    "def uppercase_decorator(function):\n",
    "    def wrapper():\n",
    "        f = function()\n",
    "        u = f.upper()\n",
    "        return u\n",
    "    return wrapper\n",
    "\n",
    "g = uppercase_decorator(greeting)\n",
    "print(g())"
   ]
  },
  {
   "cell_type": "code",
   "execution_count": 59,
   "id": "a5b98d6f",
   "metadata": {},
   "outputs": [
    {
     "name": "stdout",
     "output_type": "stream",
     "text": [
      "WELCOME HERE\n"
     ]
    }
   ],
   "source": [
    "def uppercase_decorator(function):\n",
    "    def wrapper():\n",
    "        f = function()\n",
    "        u = f.upper()\n",
    "        return u\n",
    "    return wrapper\n",
    "\n",
    "@uppercase_decorator\n",
    "def greeting():\n",
    "    return 'Welcome here'\n",
    "\n",
    "\n",
    "print(greeting())"
   ]
  },
  {
   "cell_type": "code",
   "execution_count": null,
   "id": "97c568f1",
   "metadata": {},
   "outputs": [],
   "source": []
  }
 ],
 "metadata": {
  "kernelspec": {
   "display_name": "Python 3 (ipykernel)",
   "language": "python",
   "name": "python3"
  },
  "language_info": {
   "codemirror_mode": {
    "name": "ipython",
    "version": 3
   },
   "file_extension": ".py",
   "mimetype": "text/x-python",
   "name": "python",
   "nbconvert_exporter": "python",
   "pygments_lexer": "ipython3",
   "version": "3.9.12"
  }
 },
 "nbformat": 4,
 "nbformat_minor": 5
}
