{
 "cells": [
  {
   "cell_type": "markdown",
   "id": "111b44ac",
   "metadata": {},
   "source": [
    "# Print Statement"
   ]
  },
  {
   "cell_type": "code",
   "execution_count": 1,
   "id": "368f7958",
   "metadata": {},
   "outputs": [
    {
     "name": "stdout",
     "output_type": "stream",
     "text": [
      "Hello World\n"
     ]
    }
   ],
   "source": [
    "print(\"Hello World\")"
   ]
  },
  {
   "cell_type": "code",
   "execution_count": 2,
   "id": "a3096f5d",
   "metadata": {},
   "outputs": [
    {
     "name": "stdout",
     "output_type": "stream",
     "text": [
      "Hello\n",
      "World\n"
     ]
    }
   ],
   "source": [
    "print(\"Hello\\nWorld\") # new line character"
   ]
  },
  {
   "cell_type": "code",
   "execution_count": 3,
   "id": "c0e151ba",
   "metadata": {},
   "outputs": [
    {
     "name": "stdout",
     "output_type": "stream",
     "text": [
      "Hello\tWorld\n"
     ]
    }
   ],
   "source": [
    "print(\"Hello\\tWorld\") # horizontal tab"
   ]
  },
  {
   "cell_type": "code",
   "execution_count": 4,
   "id": "e2925fe6",
   "metadata": {},
   "outputs": [
    {
     "name": "stdout",
     "output_type": "stream",
     "text": [
      "\"Hello\"\n"
     ]
    }
   ],
   "source": [
    "print(\"\\\"Hello\\\"\")"
   ]
  },
  {
   "cell_type": "code",
   "execution_count": 5,
   "id": "2d6eda53",
   "metadata": {},
   "outputs": [
    {
     "name": "stdout",
     "output_type": "stream",
     "text": [
      "\\Hello\\\n"
     ]
    }
   ],
   "source": [
    "print(\"\\\\Hello\\\\\")"
   ]
  },
  {
   "cell_type": "markdown",
   "id": "6cd88fd3",
   "metadata": {},
   "source": [
    "# Questions\n",
    "\n",
    "**Print the following output**"
   ]
  },
  {
   "cell_type": "code",
   "execution_count": 7,
   "id": "2a2c3e4c",
   "metadata": {},
   "outputs": [
    {
     "name": "stdout",
     "output_type": "stream",
     "text": [
      "Himanshu\n",
      "\tMasterDexter\n",
      "\t\tIndia\n"
     ]
    }
   ],
   "source": [
    "print(\"Himanshu\\n\\tMasterDexter\\n\\t\\tIndia\")"
   ]
  },
  {
   "cell_type": "code",
   "execution_count": null,
   "id": "ca5ad004",
   "metadata": {},
   "outputs": [],
   "source": [
    "*\n",
    "**\n",
    "***"
   ]
  },
  {
   "cell_type": "code",
   "execution_count": 8,
   "id": "81f38efd",
   "metadata": {},
   "outputs": [
    {
     "name": "stdout",
     "output_type": "stream",
     "text": [
      "*\n",
      "**\n",
      "***\n"
     ]
    }
   ],
   "source": [
    "print(\"*\\n**\\n***\")"
   ]
  },
  {
   "cell_type": "code",
   "execution_count": null,
   "id": "43e9f2fc",
   "metadata": {},
   "outputs": [],
   "source": [
    "--4--*\n",
    "*---8---*\n",
    "--4--*"
   ]
  },
  {
   "cell_type": "code",
   "execution_count": null,
   "id": "1db54109",
   "metadata": {},
   "outputs": [],
   "source": [
    "    *\n",
    "*       *\n",
    "    *"
   ]
  },
  {
   "cell_type": "code",
   "execution_count": 9,
   "id": "e2b43488",
   "metadata": {},
   "outputs": [
    {
     "name": "stdout",
     "output_type": "stream",
     "text": [
      "    *\n",
      "*\t*\n",
      "    *\n"
     ]
    }
   ],
   "source": [
    "print(\"    *\\n*\\t*\\n    *\")"
   ]
  }
 ],
 "metadata": {
  "kernelspec": {
   "display_name": "Python 3 (ipykernel)",
   "language": "python",
   "name": "python3"
  },
  "language_info": {
   "codemirror_mode": {
    "name": "ipython",
    "version": 3
   },
   "file_extension": ".py",
   "mimetype": "text/x-python",
   "name": "python",
   "nbconvert_exporter": "python",
   "pygments_lexer": "ipython3",
   "version": "3.9.12"
  }
 },
 "nbformat": 4,
 "nbformat_minor": 5
}
