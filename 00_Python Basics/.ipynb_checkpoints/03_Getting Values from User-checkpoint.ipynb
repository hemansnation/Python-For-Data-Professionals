{
 "cells": [
  {
   "cell_type": "markdown",
   "id": "4536963a",
   "metadata": {},
   "source": [
    "# Getting Values from User"
   ]
  },
  {
   "cell_type": "code",
   "execution_count": 1,
   "id": "defd92b5",
   "metadata": {},
   "outputs": [
    {
     "name": "stdout",
     "output_type": "stream",
     "text": [
      "10\n",
      "10\n"
     ]
    }
   ],
   "source": [
    "a = input()\n",
    "\n",
    "print(a)"
   ]
  },
  {
   "cell_type": "code",
   "execution_count": 2,
   "id": "a6ea21fb",
   "metadata": {},
   "outputs": [
    {
     "name": "stdout",
     "output_type": "stream",
     "text": [
      "Enter a Number: 100\n",
      "100\n"
     ]
    }
   ],
   "source": [
    "b = input(\"Enter a Number: \")\n",
    "\n",
    "print(b)"
   ]
  },
  {
   "cell_type": "code",
   "execution_count": 3,
   "id": "c28a7082",
   "metadata": {},
   "outputs": [
    {
     "name": "stdout",
     "output_type": "stream",
     "text": [
      "Enter Your Name: Himanshu\n",
      "Hello! Himanshu\n"
     ]
    }
   ],
   "source": [
    "x = input(\"Enter Your Name: \")\n",
    "\n",
    "print(\"Hello!\", x)"
   ]
  },
  {
   "cell_type": "code",
   "execution_count": 4,
   "id": "dfa716e2",
   "metadata": {},
   "outputs": [
    {
     "name": "stdout",
     "output_type": "stream",
     "text": [
      "Enter Your Password: 12345\n",
      "Your Password is :  12345\n"
     ]
    }
   ],
   "source": [
    "password = input(\"Enter Your Password: \")\n",
    "\n",
    "print(\"Your Password is : \", password)"
   ]
  },
  {
   "cell_type": "code",
   "execution_count": null,
   "id": "8d0d6334",
   "metadata": {},
   "outputs": [],
   "source": []
  }
 ],
 "metadata": {
  "kernelspec": {
   "display_name": "Python 3 (ipykernel)",
   "language": "python",
   "name": "python3"
  },
  "language_info": {
   "codemirror_mode": {
    "name": "ipython",
    "version": 3
   },
   "file_extension": ".py",
   "mimetype": "text/x-python",
   "name": "python",
   "nbconvert_exporter": "python",
   "pygments_lexer": "ipython3",
   "version": "3.9.12"
  }
 },
 "nbformat": 4,
 "nbformat_minor": 5
}
