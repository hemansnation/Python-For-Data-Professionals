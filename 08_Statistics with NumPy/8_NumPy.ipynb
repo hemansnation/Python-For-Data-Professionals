{
 "cells": [
  {
   "cell_type": "markdown",
   "id": "9df7c7c5",
   "metadata": {},
   "source": [
    "# NumPy\n",
    "\n",
    "Numeric Python\n",
    "\n",
    "n-D\n",
    "\n",
    "# Creating a Vector"
   ]
  },
  {
   "cell_type": "code",
   "execution_count": 1,
   "id": "dfce8f2e",
   "metadata": {},
   "outputs": [
    {
     "name": "stdout",
     "output_type": "stream",
     "text": [
      "Requirement already satisfied: numpy in c:\\users\\himan\\anaconda3\\lib\\site-packages (1.21.5)\n"
     ]
    }
   ],
   "source": [
    "!pip install numpy"
   ]
  },
  {
   "cell_type": "code",
   "execution_count": 2,
   "id": "bd29a4ae",
   "metadata": {},
   "outputs": [
    {
     "name": "stdout",
     "output_type": "stream",
     "text": [
      "[1 2 3]\n"
     ]
    }
   ],
   "source": [
    "import numpy as np\n",
    "\n",
    "v = np.array([1,2,3])\n",
    "\n",
    "print(v)"
   ]
  },
  {
   "cell_type": "code",
   "execution_count": 3,
   "id": "137fe6ad",
   "metadata": {},
   "outputs": [
    {
     "name": "stdout",
     "output_type": "stream",
     "text": [
      "<class 'numpy.ndarray'>\n"
     ]
    }
   ],
   "source": [
    "print(type(v))"
   ]
  },
  {
   "cell_type": "code",
   "execution_count": 4,
   "id": "bc9cd178",
   "metadata": {},
   "outputs": [
    {
     "name": "stdout",
     "output_type": "stream",
     "text": [
      "[[1]\n",
      " [2]\n",
      " [3]]\n"
     ]
    }
   ],
   "source": [
    "v = np.array([[1],[2],[3]])\n",
    "\n",
    "print(v)"
   ]
  },
  {
   "cell_type": "code",
   "execution_count": null,
   "id": "3faf191a",
   "metadata": {},
   "outputs": [],
   "source": [
    "0th dimension ->       .\n",
    "1th dimension ->       .________. #number line\n",
    "2nd D         ->       ._____|____.\n",
    "3rd D         ->       .____|____.\n",
    "                           /\n",
    "4th D"
   ]
  },
  {
   "cell_type": "markdown",
   "id": "78474f99",
   "metadata": {},
   "source": [
    "# Creating a Matrix"
   ]
  },
  {
   "cell_type": "code",
   "execution_count": 5,
   "id": "83b598ca",
   "metadata": {},
   "outputs": [
    {
     "name": "stdout",
     "output_type": "stream",
     "text": [
      "[[1 2 3]\n",
      " [4 5 6]\n",
      " [7 8 9]]\n"
     ]
    }
   ],
   "source": [
    "matrix = np.array([[1,2,3],[4,5,6],[7,8,9]])\n",
    "\n",
    "print(matrix)"
   ]
  },
  {
   "cell_type": "code",
   "execution_count": 6,
   "id": "1a8b45ab",
   "metadata": {},
   "outputs": [
    {
     "name": "stdout",
     "output_type": "stream",
     "text": [
      "1\n"
     ]
    }
   ],
   "source": [
    "print(matrix[0][0])"
   ]
  },
  {
   "cell_type": "markdown",
   "id": "8374032b",
   "metadata": {},
   "source": [
    "# Selecting Elements"
   ]
  },
  {
   "cell_type": "code",
   "execution_count": 7,
   "id": "e30482be",
   "metadata": {},
   "outputs": [
    {
     "name": "stdout",
     "output_type": "stream",
     "text": [
      "[[1 2 3]\n",
      " [4 5 6]\n",
      " [7 8 9]]\n"
     ]
    }
   ],
   "source": [
    "matrix = np.array([[1,2,3],[4,5,6],[7,8,9]])\n",
    "\n",
    "print(matrix)"
   ]
  },
  {
   "cell_type": "code",
   "execution_count": 8,
   "id": "440fdb04",
   "metadata": {},
   "outputs": [
    {
     "data": {
      "text/plain": [
       "array([[1, 2, 3],\n",
       "       [4, 5, 6],\n",
       "       [7, 8, 9]])"
      ]
     },
     "execution_count": 8,
     "metadata": {},
     "output_type": "execute_result"
    }
   ],
   "source": [
    "matrix[:]"
   ]
  },
  {
   "cell_type": "code",
   "execution_count": 9,
   "id": "06e3998b",
   "metadata": {},
   "outputs": [
    {
     "data": {
      "text/plain": [
       "array([[7, 8, 9]])"
      ]
     },
     "execution_count": 9,
     "metadata": {},
     "output_type": "execute_result"
    }
   ],
   "source": [
    "matrix[2:5]"
   ]
  },
  {
   "cell_type": "code",
   "execution_count": 10,
   "id": "00b90ae9",
   "metadata": {},
   "outputs": [
    {
     "data": {
      "text/plain": [
       "array([[4, 5, 6],\n",
       "       [7, 8, 9]])"
      ]
     },
     "execution_count": 10,
     "metadata": {},
     "output_type": "execute_result"
    }
   ],
   "source": [
    "matrix[1:]"
   ]
  },
  {
   "cell_type": "code",
   "execution_count": 11,
   "id": "54bb312e",
   "metadata": {},
   "outputs": [
    {
     "data": {
      "text/plain": [
       "1"
      ]
     },
     "execution_count": 11,
     "metadata": {},
     "output_type": "execute_result"
    }
   ],
   "source": [
    "matrix[0,0]"
   ]
  },
  {
   "cell_type": "code",
   "execution_count": 12,
   "id": "1142b4b3",
   "metadata": {},
   "outputs": [
    {
     "data": {
      "text/plain": [
       "5"
      ]
     },
     "execution_count": 12,
     "metadata": {},
     "output_type": "execute_result"
    }
   ],
   "source": [
    "matrix[1,1]"
   ]
  },
  {
   "cell_type": "code",
   "execution_count": null,
   "id": "ad6268e5",
   "metadata": {},
   "outputs": [],
   "source": [
    "00  01  02\n",
    "10  11  12\n",
    "20  21  22"
   ]
  },
  {
   "cell_type": "code",
   "execution_count": 13,
   "id": "c7488017",
   "metadata": {},
   "outputs": [
    {
     "data": {
      "text/plain": [
       "array([[1, 2, 3],\n",
       "       [4, 5, 6],\n",
       "       [7, 8, 9]])"
      ]
     },
     "execution_count": 13,
     "metadata": {},
     "output_type": "execute_result"
    }
   ],
   "source": [
    "matrix"
   ]
  },
  {
   "cell_type": "code",
   "execution_count": 14,
   "id": "66f5eab3",
   "metadata": {},
   "outputs": [
    {
     "data": {
      "text/plain": [
       "array([[1, 2],\n",
       "       [4, 5],\n",
       "       [7, 8]])"
      ]
     },
     "execution_count": 14,
     "metadata": {},
     "output_type": "execute_result"
    }
   ],
   "source": [
    "matrix[:3,:2]"
   ]
  },
  {
   "cell_type": "code",
   "execution_count": 15,
   "id": "5202668c",
   "metadata": {},
   "outputs": [
    {
     "data": {
      "text/plain": [
       "array([[2],\n",
       "       [5],\n",
       "       [8]])"
      ]
     },
     "execution_count": 15,
     "metadata": {},
     "output_type": "execute_result"
    }
   ],
   "source": [
    "matrix[:,1:2]"
   ]
  },
  {
   "cell_type": "markdown",
   "id": "9b0a2c7c",
   "metadata": {},
   "source": [
    "# Describing a Matrix"
   ]
  },
  {
   "cell_type": "code",
   "execution_count": 16,
   "id": "eac0070a",
   "metadata": {},
   "outputs": [
    {
     "name": "stdout",
     "output_type": "stream",
     "text": [
      "[[1 2 3]\n",
      " [4 5 6]\n",
      " [7 8 9]]\n"
     ]
    }
   ],
   "source": [
    "matrix = np.array([[1,2,3],[4,5,6],[7,8,9]])\n",
    "\n",
    "print(matrix)"
   ]
  },
  {
   "cell_type": "code",
   "execution_count": 17,
   "id": "684e3242",
   "metadata": {},
   "outputs": [
    {
     "data": {
      "text/plain": [
       "(3, 3)"
      ]
     },
     "execution_count": 17,
     "metadata": {},
     "output_type": "execute_result"
    }
   ],
   "source": [
    "matrix.shape"
   ]
  },
  {
   "cell_type": "code",
   "execution_count": 18,
   "id": "f689c6f3",
   "metadata": {},
   "outputs": [
    {
     "data": {
      "text/plain": [
       "2"
      ]
     },
     "execution_count": 18,
     "metadata": {},
     "output_type": "execute_result"
    }
   ],
   "source": [
    "matrix.ndim"
   ]
  },
  {
   "cell_type": "code",
   "execution_count": 19,
   "id": "39153ea1",
   "metadata": {},
   "outputs": [
    {
     "data": {
      "text/plain": [
       "int"
      ]
     },
     "execution_count": 19,
     "metadata": {},
     "output_type": "execute_result"
    }
   ],
   "source": [
    "type(matrix.ndim)"
   ]
  },
  {
   "cell_type": "code",
   "execution_count": 20,
   "id": "b81f1253",
   "metadata": {},
   "outputs": [
    {
     "data": {
      "text/plain": [
       "9"
      ]
     },
     "execution_count": 20,
     "metadata": {},
     "output_type": "execute_result"
    }
   ],
   "source": [
    "matrix.size"
   ]
  },
  {
   "cell_type": "markdown",
   "id": "6d235c74",
   "metadata": {},
   "source": [
    "# Finding max and min values"
   ]
  },
  {
   "cell_type": "code",
   "execution_count": 21,
   "id": "67140256",
   "metadata": {},
   "outputs": [
    {
     "name": "stdout",
     "output_type": "stream",
     "text": [
      "[[1 2 3]\n",
      " [4 5 6]\n",
      " [7 8 9]]\n"
     ]
    }
   ],
   "source": [
    "matrix = np.array([[1,2,3],[4,5,6],[7,8,9]])\n",
    "\n",
    "print(matrix)"
   ]
  },
  {
   "cell_type": "code",
   "execution_count": 22,
   "id": "bb285e25",
   "metadata": {},
   "outputs": [
    {
     "name": "stdout",
     "output_type": "stream",
     "text": [
      "9\n"
     ]
    }
   ],
   "source": [
    "print(np.max(matrix))"
   ]
  },
  {
   "cell_type": "code",
   "execution_count": 23,
   "id": "875e3609",
   "metadata": {},
   "outputs": [
    {
     "name": "stdout",
     "output_type": "stream",
     "text": [
      "1\n"
     ]
    }
   ],
   "source": [
    "print(np.min(matrix))"
   ]
  },
  {
   "cell_type": "code",
   "execution_count": 24,
   "id": "b5204e17",
   "metadata": {},
   "outputs": [
    {
     "name": "stdout",
     "output_type": "stream",
     "text": [
      "[7 8 9]\n"
     ]
    }
   ],
   "source": [
    "print(np.max(matrix, axis=0))  # columns"
   ]
  },
  {
   "cell_type": "code",
   "execution_count": 25,
   "id": "8c768049",
   "metadata": {},
   "outputs": [
    {
     "name": "stdout",
     "output_type": "stream",
     "text": [
      "[3 6 9]\n"
     ]
    }
   ],
   "source": [
    "print(np.max(matrix, axis=1))  # rows"
   ]
  },
  {
   "cell_type": "code",
   "execution_count": 27,
   "id": "68a53e23",
   "metadata": {
    "scrolled": false
   },
   "outputs": [],
   "source": [
    "# help(np.max)"
   ]
  },
  {
   "cell_type": "markdown",
   "id": "6ceca5ed",
   "metadata": {},
   "source": [
    "# Mean, Variance and Standard Deviation"
   ]
  },
  {
   "cell_type": "code",
   "execution_count": 49,
   "id": "ee2c1f84",
   "metadata": {},
   "outputs": [
    {
     "name": "stdout",
     "output_type": "stream",
     "text": [
      "[[  1   2   1]\n",
      " [  1   1   1]\n",
      " [  1   1 100]]\n"
     ]
    }
   ],
   "source": [
    "matrix = np.array([[1,2,1],[1,1,1],[1,1,100]])\n",
    "\n",
    "print(matrix)"
   ]
  },
  {
   "cell_type": "code",
   "execution_count": 44,
   "id": "17d8439f",
   "metadata": {},
   "outputs": [
    {
     "name": "stdout",
     "output_type": "stream",
     "text": [
      "1.1111111111111112\n"
     ]
    }
   ],
   "source": [
    "print(np.mean(matrix))  # 45/9 = 5.0"
   ]
  },
  {
   "cell_type": "code",
   "execution_count": 45,
   "id": "dcff8b75",
   "metadata": {},
   "outputs": [
    {
     "name": "stdout",
     "output_type": "stream",
     "text": [
      "1.0\n"
     ]
    }
   ],
   "source": [
    "print(np.median(matrix))"
   ]
  },
  {
   "cell_type": "code",
   "execution_count": 46,
   "id": "333dcc47",
   "metadata": {},
   "outputs": [
    {
     "name": "stdout",
     "output_type": "stream",
     "text": [
      "0.3142696805273545\n"
     ]
    }
   ],
   "source": [
    "print(np.std(matrix))"
   ]
  },
  {
   "cell_type": "code",
   "execution_count": 47,
   "id": "6459a5ef",
   "metadata": {},
   "outputs": [
    {
     "name": "stdout",
     "output_type": "stream",
     "text": [
      "0.09876543209876544\n"
     ]
    }
   ],
   "source": [
    "print(np.var(matrix))"
   ]
  },
  {
   "cell_type": "code",
   "execution_count": 50,
   "id": "830ac7e0",
   "metadata": {},
   "outputs": [
    {
     "data": {
      "text/plain": [
       "99"
      ]
     },
     "execution_count": 50,
     "metadata": {},
     "output_type": "execute_result"
    }
   ],
   "source": [
    "np.max(matrix) - np.min(matrix)"
   ]
  },
  {
   "cell_type": "code",
   "execution_count": null,
   "id": "8ef51664",
   "metadata": {},
   "outputs": [],
   "source": [
    "# IQR"
   ]
  },
  {
   "cell_type": "markdown",
   "id": "5c352ebc",
   "metadata": {},
   "source": [
    "# Reshaping Arrays"
   ]
  },
  {
   "cell_type": "code",
   "execution_count": 51,
   "id": "6891a6a9",
   "metadata": {},
   "outputs": [
    {
     "name": "stdout",
     "output_type": "stream",
     "text": [
      "[[1 2 3]\n",
      " [4 5 6]\n",
      " [7 8 9]]\n"
     ]
    }
   ],
   "source": [
    "matrix = np.array([[1,2,3],[4,5,6],[7,8,9]])\n",
    "\n",
    "print(matrix)"
   ]
  },
  {
   "cell_type": "code",
   "execution_count": 52,
   "id": "1f29696d",
   "metadata": {},
   "outputs": [
    {
     "name": "stdout",
     "output_type": "stream",
     "text": [
      "[[1]\n",
      " [2]\n",
      " [3]\n",
      " [4]\n",
      " [5]\n",
      " [6]\n",
      " [7]\n",
      " [8]\n",
      " [9]]\n"
     ]
    }
   ],
   "source": [
    "print(matrix.reshape(9,1))"
   ]
  },
  {
   "cell_type": "code",
   "execution_count": 53,
   "id": "0a016c5a",
   "metadata": {},
   "outputs": [
    {
     "ename": "ValueError",
     "evalue": "cannot reshape array of size 9 into shape (9,2)",
     "output_type": "error",
     "traceback": [
      "\u001b[1;31m---------------------------------------------------------------------------\u001b[0m",
      "\u001b[1;31mValueError\u001b[0m                                Traceback (most recent call last)",
      "Input \u001b[1;32mIn [53]\u001b[0m, in \u001b[0;36m<cell line: 1>\u001b[1;34m()\u001b[0m\n\u001b[1;32m----> 1\u001b[0m \u001b[38;5;28mprint\u001b[39m(\u001b[43mmatrix\u001b[49m\u001b[38;5;241;43m.\u001b[39;49m\u001b[43mreshape\u001b[49m\u001b[43m(\u001b[49m\u001b[38;5;241;43m9\u001b[39;49m\u001b[43m,\u001b[49m\u001b[38;5;241;43m2\u001b[39;49m\u001b[43m)\u001b[49m)\n",
      "\u001b[1;31mValueError\u001b[0m: cannot reshape array of size 9 into shape (9,2)"
     ]
    }
   ],
   "source": [
    "print(matrix.reshape(9,2))"
   ]
  },
  {
   "cell_type": "code",
   "execution_count": 54,
   "id": "7a6d5f3a",
   "metadata": {},
   "outputs": [
    {
     "ename": "ValueError",
     "evalue": "cannot reshape array of size 9 into shape (4,2)",
     "output_type": "error",
     "traceback": [
      "\u001b[1;31m---------------------------------------------------------------------------\u001b[0m",
      "\u001b[1;31mValueError\u001b[0m                                Traceback (most recent call last)",
      "Input \u001b[1;32mIn [54]\u001b[0m, in \u001b[0;36m<cell line: 1>\u001b[1;34m()\u001b[0m\n\u001b[1;32m----> 1\u001b[0m \u001b[38;5;28mprint\u001b[39m(\u001b[43mmatrix\u001b[49m\u001b[38;5;241;43m.\u001b[39;49m\u001b[43mreshape\u001b[49m\u001b[43m(\u001b[49m\u001b[38;5;241;43m4\u001b[39;49m\u001b[43m,\u001b[49m\u001b[38;5;241;43m2\u001b[39;49m\u001b[43m)\u001b[49m)\n",
      "\u001b[1;31mValueError\u001b[0m: cannot reshape array of size 9 into shape (4,2)"
     ]
    }
   ],
   "source": [
    "print(matrix.reshape(4,2))"
   ]
  },
  {
   "cell_type": "code",
   "execution_count": 55,
   "id": "98237ddc",
   "metadata": {},
   "outputs": [
    {
     "name": "stdout",
     "output_type": "stream",
     "text": [
      "[[1 2 3 4 5 6 7 8 9]]\n"
     ]
    }
   ],
   "source": [
    "print(matrix.reshape(1,9))"
   ]
  },
  {
   "cell_type": "code",
   "execution_count": 56,
   "id": "93f38794",
   "metadata": {},
   "outputs": [
    {
     "name": "stdout",
     "output_type": "stream",
     "text": [
      "[1 2 3 4 5 6 7 8 9]\n"
     ]
    }
   ],
   "source": [
    "print(matrix.reshape(9))   # 1-d array"
   ]
  },
  {
   "cell_type": "code",
   "execution_count": 57,
   "id": "8e5265bb",
   "metadata": {
    "scrolled": true
   },
   "outputs": [
    {
     "name": "stdout",
     "output_type": "stream",
     "text": [
      "[1 2 3 4 5 6 7 8 9]\n"
     ]
    }
   ],
   "source": [
    "print(matrix.flatten())"
   ]
  },
  {
   "cell_type": "markdown",
   "id": "48d3cfbe",
   "metadata": {},
   "source": [
    "# Transpose of Matrix"
   ]
  },
  {
   "cell_type": "code",
   "execution_count": 58,
   "id": "e4fdb963",
   "metadata": {},
   "outputs": [
    {
     "name": "stdout",
     "output_type": "stream",
     "text": [
      "[[1 2 3]\n",
      " [4 5 6]\n",
      " [7 8 9]]\n"
     ]
    }
   ],
   "source": [
    "matrix = np.array([[1,2,3],[4,5,6],[7,8,9]])\n",
    "\n",
    "print(matrix)"
   ]
  },
  {
   "cell_type": "code",
   "execution_count": 59,
   "id": "fd1ca2d8",
   "metadata": {},
   "outputs": [
    {
     "name": "stdout",
     "output_type": "stream",
     "text": [
      "[[1 4 7]\n",
      " [2 5 8]\n",
      " [3 6 9]]\n"
     ]
    }
   ],
   "source": [
    "print(matrix.T)"
   ]
  },
  {
   "cell_type": "markdown",
   "id": "f5e30f9c",
   "metadata": {},
   "source": [
    "# Determinanat and Rank"
   ]
  },
  {
   "cell_type": "code",
   "execution_count": 60,
   "id": "9fc0a334",
   "metadata": {},
   "outputs": [
    {
     "name": "stdout",
     "output_type": "stream",
     "text": [
      "[[1 2 3]\n",
      " [4 5 6]\n",
      " [7 8 9]]\n"
     ]
    }
   ],
   "source": [
    "matrix = np.array([[1,2,3],[4,5,6],[7,8,9]])\n",
    "\n",
    "print(matrix)"
   ]
  },
  {
   "cell_type": "code",
   "execution_count": 61,
   "id": "accccd96",
   "metadata": {},
   "outputs": [
    {
     "name": "stdout",
     "output_type": "stream",
     "text": [
      "-9.51619735392994e-16\n"
     ]
    }
   ],
   "source": [
    "print(np.linalg.det(matrix))"
   ]
  },
  {
   "cell_type": "code",
   "execution_count": 62,
   "id": "5b9cf313",
   "metadata": {},
   "outputs": [
    {
     "name": "stdout",
     "output_type": "stream",
     "text": [
      "2\n"
     ]
    }
   ],
   "source": [
    "print(np.linalg.matrix_rank(matrix))"
   ]
  },
  {
   "cell_type": "markdown",
   "id": "83056e4c",
   "metadata": {},
   "source": [
    "# Diagonal"
   ]
  },
  {
   "cell_type": "code",
   "execution_count": 63,
   "id": "acecc1ce",
   "metadata": {},
   "outputs": [
    {
     "name": "stdout",
     "output_type": "stream",
     "text": [
      "[[1 2 3]\n",
      " [4 5 6]\n",
      " [7 8 9]]\n"
     ]
    }
   ],
   "source": [
    "matrix = np.array([[1,2,3],[4,5,6],[7,8,9]])\n",
    "\n",
    "print(matrix)"
   ]
  },
  {
   "cell_type": "code",
   "execution_count": 64,
   "id": "dd50c93b",
   "metadata": {},
   "outputs": [
    {
     "name": "stdout",
     "output_type": "stream",
     "text": [
      "[1 5 9]\n"
     ]
    }
   ],
   "source": [
    "print(matrix.diagonal())"
   ]
  },
  {
   "cell_type": "code",
   "execution_count": 65,
   "id": "4713d1dd",
   "metadata": {},
   "outputs": [
    {
     "name": "stdout",
     "output_type": "stream",
     "text": [
      "[2 6]\n"
     ]
    }
   ],
   "source": [
    "print(matrix.diagonal(offset = 1))"
   ]
  },
  {
   "cell_type": "code",
   "execution_count": 66,
   "id": "fcb2e904",
   "metadata": {},
   "outputs": [
    {
     "name": "stdout",
     "output_type": "stream",
     "text": [
      "[3]\n"
     ]
    }
   ],
   "source": [
    "print(matrix.diagonal(offset = 2))"
   ]
  },
  {
   "cell_type": "code",
   "execution_count": 67,
   "id": "07673daa",
   "metadata": {},
   "outputs": [
    {
     "name": "stdout",
     "output_type": "stream",
     "text": [
      "[4 8]\n"
     ]
    }
   ],
   "source": [
    "print(matrix.diagonal(offset = -1))"
   ]
  },
  {
   "cell_type": "markdown",
   "id": "eca35851",
   "metadata": {},
   "source": [
    "# Dot Product"
   ]
  },
  {
   "cell_type": "code",
   "execution_count": 68,
   "id": "e6d6acfb",
   "metadata": {},
   "outputs": [
    {
     "name": "stdout",
     "output_type": "stream",
     "text": [
      "[[1 2 3]\n",
      " [4 5 6]\n",
      " [7 8 9]]\n",
      "[[1 2 3]\n",
      " [4 5 6]\n",
      " [7 8 9]]\n",
      "[[ 30  36  42]\n",
      " [ 66  81  96]\n",
      " [102 126 150]]\n"
     ]
    }
   ],
   "source": [
    "matrix1 = np.array([[1,2,3],[4,5,6],[7,8,9]])\n",
    "\n",
    "matrix2 = np.array([[1,2,3],[4,5,6],[7,8,9]])\n",
    "\n",
    "print(matrix1)\n",
    "print(matrix2)\n",
    "\n",
    "print(np.dot(matrix1,matrix2))"
   ]
  },
  {
   "cell_type": "code",
   "execution_count": 69,
   "id": "7d12bcbb",
   "metadata": {},
   "outputs": [
    {
     "data": {
      "text/plain": [
       "array([[ 1,  4,  9],\n",
       "       [16, 25, 36],\n",
       "       [49, 64, 81]])"
      ]
     },
     "execution_count": 69,
     "metadata": {},
     "output_type": "execute_result"
    }
   ],
   "source": [
    "matrix1 * matrix2"
   ]
  },
  {
   "cell_type": "code",
   "execution_count": 71,
   "id": "26291fda",
   "metadata": {},
   "outputs": [
    {
     "data": {
      "text/plain": [
       "array([[ 30,  36,  42],\n",
       "       [ 66,  81,  96],\n",
       "       [102, 126, 150]])"
      ]
     },
     "execution_count": 71,
     "metadata": {},
     "output_type": "execute_result"
    }
   ],
   "source": [
    "matrix1 @ matrix2    # dot product"
   ]
  },
  {
   "cell_type": "markdown",
   "id": "8fb97734",
   "metadata": {},
   "source": [
    "# Random Values"
   ]
  },
  {
   "cell_type": "code",
   "execution_count": 82,
   "id": "d29b5ce0",
   "metadata": {},
   "outputs": [
    {
     "name": "stdout",
     "output_type": "stream",
     "text": [
      "[9 4 0]\n"
     ]
    }
   ],
   "source": [
    "np.random.seed(10)\n",
    "\n",
    "print(np.random.randint(0,11,3))"
   ]
  },
  {
   "cell_type": "code",
   "execution_count": 85,
   "id": "b99f3a54",
   "metadata": {},
   "outputs": [
    {
     "name": "stdout",
     "output_type": "stream",
     "text": [
      "[-0.3642477   0.07756334  2.93133228]\n"
     ]
    }
   ],
   "source": [
    "print(np.random.normal(1.0,2.0,3))  # normal distribution of data\n",
    "#                    mean, std, number of data points"
   ]
  },
  {
   "cell_type": "code",
   "execution_count": null,
   "id": "c439ab17",
   "metadata": {},
   "outputs": [],
   "source": []
  }
 ],
 "metadata": {
  "kernelspec": {
   "display_name": "Python 3 (ipykernel)",
   "language": "python",
   "name": "python3"
  },
  "language_info": {
   "codemirror_mode": {
    "name": "ipython",
    "version": 3
   },
   "file_extension": ".py",
   "mimetype": "text/x-python",
   "name": "python",
   "nbconvert_exporter": "python",
   "pygments_lexer": "ipython3",
   "version": "3.9.12"
  }
 },
 "nbformat": 4,
 "nbformat_minor": 5
}
